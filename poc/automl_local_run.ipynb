{
 "cells": [
  {
   "cell_type": "markdown",
   "metadata": {},
   "source": [
    "# Introduction"
   ]
  },
  {
   "cell_type": "markdown",
   "metadata": {},
   "source": [
    "Walk through the Azure Automatic Machine Learning model training using local machine. \n",
    "- Use Dataprep to select columns and infer data type\n",
    "- Use AutoML and understand prediction performance\n",
    "- Validate on Out-of-Time sample to benchmark previous model work"
   ]
  },
  {
   "cell_type": "markdown",
   "metadata": {},
   "source": [
    "### Imports\n",
    "Import libraries and write settings here."
   ]
  },
  {
   "cell_type": "code",
   "execution_count": 1,
   "metadata": {
    "ExecuteTime": {
     "end_time": "2019-04-12T22:47:27.531802Z",
     "start_time": "2019-04-12T22:47:27.525818Z"
    }
   },
   "outputs": [],
   "source": [
    "# Data manipulation\n",
    "import pandas as pd\n",
    "import numpy as np\n",
    "import os\n",
    "import importlib\n",
    "\n",
    "# Options for pandas\n",
    "pd.options.display.max_columns = 2000\n",
    "pd.options.display.max_rows = 30\n",
    "\n",
    "# Visualizations\n",
    "import matplotlib.pyplot as plt"
   ]
  },
  {
   "cell_type": "code",
   "execution_count": 2,
   "metadata": {
    "ExecuteTime": {
     "end_time": "2019-04-12T17:17:50.009997Z",
     "start_time": "2019-04-12T17:17:47.684967Z"
    }
   },
   "outputs": [
    {
     "name": "stderr",
     "output_type": "stream",
     "text": [
      "C:\\Users\\cwei\\AppData\\Local\\Continuum\\anaconda3\\envs\\myenv\\lib\\site-packages\\requests\\__init__.py:91: RequestsDependencyWarning: urllib3 (1.25.2) or chardet (3.0.4) doesn't match a supported version!\n",
      "  RequestsDependencyWarning)\n"
     ]
    }
   ],
   "source": [
    "# Import Azure libraries\n",
    "import azureml.dataprep as dprep"
   ]
  },
  {
   "cell_type": "markdown",
   "metadata": {},
   "source": [
    "# Dataprep"
   ]
  },
  {
   "cell_type": "markdown",
   "metadata": {},
   "source": [
    "### Load & Clean Data"
   ]
  },
  {
   "cell_type": "markdown",
   "metadata": {},
   "source": [
    "Here we are using the Conquest Model dataset which a RandomForest Model was fitted with OOT AUC at 0.7821 "
   ]
  },
  {
   "cell_type": "code",
   "execution_count": 3,
   "metadata": {},
   "outputs": [],
   "source": [
    "train = dprep.read_csv('data/exp_all_201612_nonsd.csv')"
   ]
  },
  {
   "cell_type": "code",
   "execution_count": 4,
   "metadata": {
    "ExecuteTime": {
     "end_time": "2019-04-12T17:17:56.452144Z",
     "start_time": "2019-04-12T17:17:56.445165Z"
    }
   },
   "outputs": [],
   "source": [
    "# define the columns needed\n",
    "useful_columns = ['sales_nonsd','auto_in_the_market_used_0_5_vehicle','apm_used_0_5_suv_domestic_standard',\n",
    "                  'apm_used_0_5_pickup','apm_used_0_5_sports_car_domestic','apm_used_0_5_suv_domestic_premium',\n",
    "                  'apm_used_0_5_luxury_car_domestic','act_int_hunting_enthusiasts','buyer_non_prestige_makeup_brand_user',\n",
    "                  'apm_used_0_5_mini_van_domestic','auto_in_the_market_new','consumerview_profitability_score',\n",
    "                  'buyer_presence_of_automobile','apm_used_6_10_pickup','apm_used_0_5_small_car_standard',\n",
    "                  'person_1_marital_status']"
   ]
  },
  {
   "cell_type": "code",
   "execution_count": 7,
   "metadata": {
    "ExecuteTime": {
     "end_time": "2019-04-12T19:14:26.690904Z",
     "start_time": "2019-04-12T19:14:26.685919Z"
    }
   },
   "outputs": [],
   "source": [
    "train2 = (train\n",
    "    .keep_columns(columns=useful_columns))"
   ]
  },
  {
   "cell_type": "markdown",
   "metadata": {},
   "source": [
    "### Inferred Data Type"
   ]
  },
  {
   "cell_type": "code",
   "execution_count": 8,
   "metadata": {
    "ExecuteTime": {
     "end_time": "2019-04-12T19:14:32.765952Z",
     "start_time": "2019-04-12T19:14:28.361474Z"
    }
   },
   "outputs": [
    {
     "data": {
      "text/plain": [
       "Column types conversion candidates:\n",
       "'apm_used_0_5_sports_car_domestic': [FieldType.INTEGER],\n",
       "'apm_used_0_5_suv_domestic_standard': [FieldType.INTEGER],\n",
       "'auto_in_the_market_new': [FieldType.INTEGER],\n",
       "'buyer_presence_of_automobile': [FieldType.INTEGER],\n",
       "'sales_nonsd': [FieldType.DECIMAL],\n",
       "'apm_used_0_5_luxury_car_domestic': [FieldType.INTEGER],\n",
       "'apm_used_0_5_mini_van_domestic': [FieldType.INTEGER],\n",
       "'apm_used_0_5_pickup': [FieldType.INTEGER],\n",
       "'act_int_hunting_enthusiasts': [FieldType.INTEGER],\n",
       "'consumerview_profitability_score': [FieldType.INTEGER],\n",
       "'person_1_marital_status': [FieldType.STRING],\n",
       "'apm_used_0_5_small_car_standard': [FieldType.INTEGER],\n",
       "'apm_used_0_5_suv_domestic_premium': [FieldType.INTEGER],\n",
       "'apm_used_6_10_pickup': [FieldType.INTEGER],\n",
       "'auto_in_the_market_used_0_5_vehicle': [FieldType.INTEGER],\n",
       "'buyer_non_prestige_makeup_brand_user': [FieldType.INTEGER]"
      ]
     },
     "execution_count": 8,
     "metadata": {},
     "output_type": "execute_result"
    }
   ],
   "source": [
    "type_infer = train2.builders.set_column_types()\n",
    "type_infer.learn()\n",
    "type_infer"
   ]
  },
  {
   "cell_type": "code",
   "execution_count": 9,
   "metadata": {
    "ExecuteTime": {
     "end_time": "2019-04-12T19:16:03.713230Z",
     "start_time": "2019-04-12T19:16:03.685308Z"
    }
   },
   "outputs": [],
   "source": [
    "train2 = type_infer.to_dataflow()"
   ]
  },
  {
   "cell_type": "code",
   "execution_count": 10,
   "metadata": {
    "ExecuteTime": {
     "end_time": "2019-04-12T22:48:48.640152Z",
     "start_time": "2019-04-12T22:48:44.571975Z"
    }
   },
   "outputs": [
    {
     "data": {
      "text/html": [
       "<div>\n",
       "<style scoped>\n",
       "    .dataframe tbody tr th:only-of-type {\n",
       "        vertical-align: middle;\n",
       "    }\n",
       "\n",
       "    .dataframe tbody tr th {\n",
       "        vertical-align: top;\n",
       "    }\n",
       "\n",
       "    .dataframe thead th {\n",
       "        text-align: right;\n",
       "    }\n",
       "</style>\n",
       "<table border=\"1\" class=\"dataframe\">\n",
       "  <thead>\n",
       "    <tr style=\"text-align: right;\">\n",
       "      <th></th>\n",
       "      <th>person_1_marital_status</th>\n",
       "      <th>apm_used_0_5_small_car_standard</th>\n",
       "      <th>apm_used_0_5_sports_car_domestic</th>\n",
       "      <th>apm_used_0_5_luxury_car_domestic</th>\n",
       "      <th>apm_used_0_5_suv_domestic_standard</th>\n",
       "      <th>apm_used_0_5_suv_domestic_premium</th>\n",
       "      <th>apm_used_0_5_mini_van_domestic</th>\n",
       "      <th>apm_used_0_5_pickup</th>\n",
       "      <th>apm_used_6_10_pickup</th>\n",
       "      <th>auto_in_the_market_new</th>\n",
       "      <th>auto_in_the_market_used_0_5_vehicle</th>\n",
       "      <th>act_int_hunting_enthusiasts</th>\n",
       "      <th>buyer_presence_of_automobile</th>\n",
       "      <th>buyer_non_prestige_makeup_brand_user</th>\n",
       "      <th>consumerview_profitability_score</th>\n",
       "      <th>sales_nonsd</th>\n",
       "    </tr>\n",
       "  </thead>\n",
       "  <tbody>\n",
       "    <tr>\n",
       "      <th>0</th>\n",
       "      <td>1M</td>\n",
       "      <td>4</td>\n",
       "      <td>3</td>\n",
       "      <td>3</td>\n",
       "      <td>4</td>\n",
       "      <td>4</td>\n",
       "      <td>6</td>\n",
       "      <td>1</td>\n",
       "      <td>3</td>\n",
       "      <td>2</td>\n",
       "      <td>2</td>\n",
       "      <td>37</td>\n",
       "      <td>65</td>\n",
       "      <td>84</td>\n",
       "      <td>3</td>\n",
       "      <td>0.0</td>\n",
       "    </tr>\n",
       "    <tr>\n",
       "      <th>1</th>\n",
       "      <td>5U</td>\n",
       "      <td>8</td>\n",
       "      <td>6</td>\n",
       "      <td>4</td>\n",
       "      <td>8</td>\n",
       "      <td>8</td>\n",
       "      <td>9</td>\n",
       "      <td>8</td>\n",
       "      <td>8</td>\n",
       "      <td>2</td>\n",
       "      <td>8</td>\n",
       "      <td>44</td>\n",
       "      <td>69</td>\n",
       "      <td>14</td>\n",
       "      <td>3</td>\n",
       "      <td>0.0</td>\n",
       "    </tr>\n",
       "    <tr>\n",
       "      <th>2</th>\n",
       "      <td>5M</td>\n",
       "      <td>8</td>\n",
       "      <td>9</td>\n",
       "      <td>9</td>\n",
       "      <td>8</td>\n",
       "      <td>8</td>\n",
       "      <td>9</td>\n",
       "      <td>8</td>\n",
       "      <td>9</td>\n",
       "      <td>9</td>\n",
       "      <td>9</td>\n",
       "      <td>57</td>\n",
       "      <td>79</td>\n",
       "      <td>30</td>\n",
       "      <td>8</td>\n",
       "      <td>0.0</td>\n",
       "    </tr>\n",
       "    <tr>\n",
       "      <th>3</th>\n",
       "      <td>1M</td>\n",
       "      <td>8</td>\n",
       "      <td>8</td>\n",
       "      <td>6</td>\n",
       "      <td>8</td>\n",
       "      <td>8</td>\n",
       "      <td>8</td>\n",
       "      <td>7</td>\n",
       "      <td>4</td>\n",
       "      <td>6</td>\n",
       "      <td>6</td>\n",
       "      <td>18</td>\n",
       "      <td>26</td>\n",
       "      <td>64</td>\n",
       "      <td>3</td>\n",
       "      <td>0.0</td>\n",
       "    </tr>\n",
       "    <tr>\n",
       "      <th>4</th>\n",
       "      <td>5S</td>\n",
       "      <td>7</td>\n",
       "      <td>9</td>\n",
       "      <td>8</td>\n",
       "      <td>7</td>\n",
       "      <td>7</td>\n",
       "      <td>9</td>\n",
       "      <td>9</td>\n",
       "      <td>9</td>\n",
       "      <td>3</td>\n",
       "      <td>8</td>\n",
       "      <td>82</td>\n",
       "      <td>85</td>\n",
       "      <td>9</td>\n",
       "      <td>6</td>\n",
       "      <td>0.0</td>\n",
       "    </tr>\n",
       "  </tbody>\n",
       "</table>\n",
       "</div>"
      ],
      "text/plain": [
       "  person_1_marital_status  apm_used_0_5_small_car_standard  \\\n",
       "0                      1M                                4   \n",
       "1                      5U                                8   \n",
       "2                      5M                                8   \n",
       "3                      1M                                8   \n",
       "4                      5S                                7   \n",
       "\n",
       "   apm_used_0_5_sports_car_domestic  apm_used_0_5_luxury_car_domestic  \\\n",
       "0                                 3                                 3   \n",
       "1                                 6                                 4   \n",
       "2                                 9                                 9   \n",
       "3                                 8                                 6   \n",
       "4                                 9                                 8   \n",
       "\n",
       "   apm_used_0_5_suv_domestic_standard  apm_used_0_5_suv_domestic_premium  \\\n",
       "0                                   4                                  4   \n",
       "1                                   8                                  8   \n",
       "2                                   8                                  8   \n",
       "3                                   8                                  8   \n",
       "4                                   7                                  7   \n",
       "\n",
       "   apm_used_0_5_mini_van_domestic  apm_used_0_5_pickup  apm_used_6_10_pickup  \\\n",
       "0                               6                    1                     3   \n",
       "1                               9                    8                     8   \n",
       "2                               9                    8                     9   \n",
       "3                               8                    7                     4   \n",
       "4                               9                    9                     9   \n",
       "\n",
       "   auto_in_the_market_new  auto_in_the_market_used_0_5_vehicle  \\\n",
       "0                       2                                    2   \n",
       "1                       2                                    8   \n",
       "2                       9                                    9   \n",
       "3                       6                                    6   \n",
       "4                       3                                    8   \n",
       "\n",
       "   act_int_hunting_enthusiasts  buyer_presence_of_automobile  \\\n",
       "0                           37                            65   \n",
       "1                           44                            69   \n",
       "2                           57                            79   \n",
       "3                           18                            26   \n",
       "4                           82                            85   \n",
       "\n",
       "   buyer_non_prestige_makeup_brand_user  consumerview_profitability_score  \\\n",
       "0                                    84                                 3   \n",
       "1                                    14                                 3   \n",
       "2                                    30                                 8   \n",
       "3                                    64                                 3   \n",
       "4                                     9                                 6   \n",
       "\n",
       "   sales_nonsd  \n",
       "0          0.0  \n",
       "1          0.0  \n",
       "2          0.0  \n",
       "3          0.0  \n",
       "4          0.0  "
      ]
     },
     "execution_count": 10,
     "metadata": {},
     "output_type": "execute_result"
    }
   ],
   "source": [
    "train2.head(5)"
   ]
  },
  {
   "cell_type": "markdown",
   "metadata": {},
   "source": [
    "# AutoML"
   ]
  },
  {
   "cell_type": "code",
   "execution_count": 11,
   "metadata": {
    "ExecuteTime": {
     "end_time": "2019-04-12T17:28:02.078045Z",
     "start_time": "2019-04-12T17:28:02.072802Z"
    }
   },
   "outputs": [],
   "source": [
    "# import libraries\n",
    "import azureml.core\n",
    "import pandas as pd\n",
    "from azureml.core.workspace import Workspace\n",
    "import logging\n",
    "import os"
   ]
  },
  {
   "cell_type": "code",
   "execution_count": 12,
   "metadata": {
    "ExecuteTime": {
     "end_time": "2019-04-12T17:28:05.731712Z",
     "start_time": "2019-04-12T17:28:04.377297Z"
    }
   },
   "outputs": [
    {
     "data": {
      "text/html": [
       "<div>\n",
       "<style scoped>\n",
       "    .dataframe tbody tr th:only-of-type {\n",
       "        vertical-align: middle;\n",
       "    }\n",
       "\n",
       "    .dataframe tbody tr th {\n",
       "        vertical-align: top;\n",
       "    }\n",
       "\n",
       "    .dataframe thead th {\n",
       "        text-align: right;\n",
       "    }\n",
       "</style>\n",
       "<table border=\"1\" class=\"dataframe\">\n",
       "  <thead>\n",
       "    <tr style=\"text-align: right;\">\n",
       "      <th></th>\n",
       "      <th></th>\n",
       "    </tr>\n",
       "  </thead>\n",
       "  <tbody>\n",
       "    <tr>\n",
       "      <th>SDK version</th>\n",
       "      <td>1.0.33</td>\n",
       "    </tr>\n",
       "    <tr>\n",
       "      <th>Subscription ID</th>\n",
       "      <td>12434d83-af58-402b-926d-5e7af974d1ee</td>\n",
       "    </tr>\n",
       "    <tr>\n",
       "      <th>Workspace</th>\n",
       "      <td>myworkspace</td>\n",
       "    </tr>\n",
       "    <tr>\n",
       "      <th>Resource Group</th>\n",
       "      <td>myresourcegroup</td>\n",
       "    </tr>\n",
       "    <tr>\n",
       "      <th>Location</th>\n",
       "      <td>eastus2</td>\n",
       "    </tr>\n",
       "    <tr>\n",
       "      <th>Project Directory</th>\n",
       "      <td>./automated-ml-regression</td>\n",
       "    </tr>\n",
       "  </tbody>\n",
       "</table>\n",
       "</div>"
      ],
      "text/plain": [
       "                                                       \n",
       "SDK version        1.0.33                              \n",
       "Subscription ID    12434d83-af58-402b-926d-5e7af974d1ee\n",
       "Workspace          myworkspace                         \n",
       "Resource Group     myresourcegroup                     \n",
       "Location           eastus2                             \n",
       "Project Directory  ./automated-ml-regression           "
      ]
     },
     "execution_count": 12,
     "metadata": {},
     "output_type": "execute_result"
    }
   ],
   "source": [
    "# configure workspace\n",
    "ws = Workspace.from_config()\n",
    "# choose a name for the run history container in the workspace\n",
    "experiment_name = 'automated-ml-regression'\n",
    "# project folder\n",
    "project_folder = './automated-ml-regression'\n",
    "\n",
    "output = {}\n",
    "output['SDK version'] = azureml.core.VERSION\n",
    "output['Subscription ID'] = ws.subscription_id\n",
    "output['Workspace'] = ws.name\n",
    "output['Resource Group'] = ws.resource_group\n",
    "output['Location'] = ws.location\n",
    "output['Project Directory'] = project_folder\n",
    "pd.set_option('display.max_colwidth', -1)\n",
    "outputDf = pd.DataFrame(data = output, index = [''])\n",
    "outputDf.T"
   ]
  },
  {
   "cell_type": "code",
   "execution_count": 13,
   "metadata": {
    "ExecuteTime": {
     "end_time": "2019-04-12T19:17:04.457461Z",
     "start_time": "2019-04-12T19:17:04.452474Z"
    }
   },
   "outputs": [],
   "source": [
    "dflow_X = train2.drop_columns('sales_nonsd')\n",
    "dflow_y = train2.keep_columns('sales_nonsd')"
   ]
  },
  {
   "cell_type": "markdown",
   "metadata": {},
   "source": [
    "### Split Data to Train and Test"
   ]
  },
  {
   "cell_type": "code",
   "execution_count": 14,
   "metadata": {
    "ExecuteTime": {
     "end_time": "2019-04-12T19:22:55.711740Z",
     "start_time": "2019-04-12T19:17:12.125491Z"
    }
   },
   "outputs": [
    {
     "data": {
      "text/plain": [
       "array([0., 0., 0., ..., 1., 1., 0.])"
      ]
     },
     "execution_count": 14,
     "metadata": {},
     "output_type": "execute_result"
    }
   ],
   "source": [
    "from sklearn.model_selection import train_test_split\n",
    "\n",
    "x_df = dflow_X.to_pandas_dataframe()\n",
    "y_df = dflow_y.to_pandas_dataframe()\n",
    "\n",
    "x_train, x_test, y_train, y_test = train_test_split(x_df, y_df, test_size=0.2, random_state=223)\n",
    "# flatten y_train to 1d array\n",
    "y_train.values.flatten()"
   ]
  },
  {
   "cell_type": "markdown",
   "metadata": {},
   "source": [
    "## Automatically Training"
   ]
  },
  {
   "cell_type": "markdown",
   "metadata": {},
   "source": [
    "### Define Settings for Autogeneration and Tuning"
   ]
  },
  {
   "cell_type": "code",
   "execution_count": 15,
   "metadata": {
    "ExecuteTime": {
     "end_time": "2019-04-12T19:26:18.025324Z",
     "start_time": "2019-04-12T19:26:18.018742Z"
    }
   },
   "outputs": [],
   "source": [
    "automl_settings = {\n",
    "    \"iteration_timeout_minutes\" : 10,\n",
    "    \"iterations\" : 3,\n",
    "    \"primary_metric\" : 'AUC_weighted',\n",
    "    \"preprocess\" : True,\n",
    "    \"verbosity\" : logging.INFO,\n",
    "    \"n_cross_validations\": 5,\n",
    "    \"max_cores_per_iteration\": 2,\n",
    "    \"max_concurrent_iterations\": 1,\n",
    "}"
   ]
  },
  {
   "cell_type": "code",
   "execution_count": 16,
   "metadata": {
    "ExecuteTime": {
     "end_time": "2019-04-12T17:28:42.131084Z",
     "start_time": "2019-04-12T17:28:42.121151Z"
    }
   },
   "outputs": [],
   "source": [
    "# any model specifically want to whitelist and focus on for training\n",
    "ALL = ['LogisticRegression', 'SGD', 'MultinomialNaiveBayes', 'BernoulliNaiveBayes', 'SVM', 'LinearSVM',\n",
    "       'KNN', 'DecisionTree', 'RandomForest', 'ExtremeRandomTrees', 'LightGBM', 'XGBoostClassifier',\n",
    "       'GradientBoosting', 'TensorFlowDNN', 'TensorFlowLinearClassifier']\n",
    "TRY = ['XGBoostClassifier']"
   ]
  },
  {
   "cell_type": "code",
   "execution_count": 17,
   "metadata": {
    "ExecuteTime": {
     "end_time": "2019-04-12T19:27:31.184409Z",
     "start_time": "2019-04-12T19:27:10.000012Z"
    }
   },
   "outputs": [],
   "source": [
    "from azureml.train.automl import AutoMLConfig\n",
    "\n",
    "# local compute \n",
    "automated_ml_config = AutoMLConfig(task = 'classification',\n",
    "                             debug_log = 'automated_ml_errors.log',\n",
    "                             path = project_folder,\n",
    "                             X = x_train.values,\n",
    "                             y = y_train.values.flatten(),\n",
    "#                              auto_blacklist=False,\n",
    "#                              blacklist_models=[],\n",
    "#                              enable_early_stopping=True,\n",
    "#                              enable_tf=True,\n",
    "                             whitelist_models=TRY,\n",
    "#                              enable_onnx_compatible_models=True,\n",
    "#                              iterations=5,\n",
    "#                              n_cross_validations=2,\n",
    "#                              verbosity=100,\n",
    "                             **automl_settings)"
   ]
  },
  {
   "cell_type": "markdown",
   "metadata": {},
   "source": [
    "### Train Automatic Models"
   ]
  },
  {
   "cell_type": "code",
   "execution_count": 18,
   "metadata": {
    "ExecuteTime": {
     "end_time": "2019-04-12T21:35:53.590719Z",
     "start_time": "2019-04-12T19:27:52.493966Z"
    }
   },
   "outputs": [
    {
     "name": "stdout",
     "output_type": "stream",
     "text": [
      "Running on local machine\n",
      "Parent Run ID: AutoML_8dbbb6ef-dc56-4fc3-ab3f-b1631e1e48cf\n",
      "Current status: DatasetEvaluation. Gathering dataset statistics.\n",
      "Current status: FeaturesGeneration. Generating features for the dataset.\n",
      "Current status: DatasetFeaturization. Featurizing the dataset.\n",
      "Current status: DatasetCrossValidationSplit. Generating individually featurized CV splits.\n",
      "Current status: DatasetFeaturization. Featurizing the dataset.\n",
      "Current status: DatasetFeaturization. Featurizing the dataset.\n",
      "Current status: DatasetFeaturization. Featurizing the dataset.\n",
      "Current status: DatasetFeaturization. Featurizing the dataset.\n",
      "Current status: DatasetFeaturization. Featurizing the dataset.\n",
      "Current status: DatasetFeaturization. Featurizing the dataset.\n",
      "Current status: DatasetFeaturization. Featurizing the dataset.\n",
      "Current status: DatasetFeaturization. Featurizing the dataset.\n",
      "Current status: DatasetFeaturization. Featurizing the dataset.\n",
      "Current status: DatasetFeaturization. Featurizing the dataset.\n",
      "Current status: ModelSelection. Beginning model selection.\n",
      "\n",
      "****************************************************************************************************\n",
      "ITERATION: The iteration being evaluated.\n",
      "PIPELINE: A summary description of the pipeline being evaluated.\n",
      "DURATION: Time taken for the current iteration.\n",
      "METRIC: The result of computing score on the fitted pipeline.\n",
      "BEST: The best observed score thus far.\n",
      "****************************************************************************************************\n",
      "\n",
      " ITERATION   PIPELINE                                       DURATION      METRIC      BEST\n",
      "         0   StandardScalerWrapper XGBoostClassifier        0:00:51       0.7777    0.7777\n",
      "         1   VotingEnsemble                                 0:01:45       0.7777    0.7777\n",
      "         2   StackEnsemble                                  0:01:19       0.7777    0.7777\n"
     ]
    }
   ],
   "source": [
    "from azureml.core.experiment import Experiment\n",
    "experiment=Experiment(ws, experiment_name)\n",
    "local_run = experiment.submit(automated_ml_config, show_output=True)"
   ]
  },
  {
   "cell_type": "markdown",
   "metadata": {},
   "source": [
    "# Out of Time Sample Validation"
   ]
  },
  {
   "cell_type": "code",
   "execution_count": 19,
   "metadata": {},
   "outputs": [],
   "source": [
    "oot = dprep.read_csv('data2/exp_all_201704_nonsd.csv')"
   ]
  },
  {
   "cell_type": "code",
   "execution_count": 20,
   "metadata": {
    "ExecuteTime": {
     "end_time": "2019-04-12T19:14:26.690904Z",
     "start_time": "2019-04-12T19:14:26.685919Z"
    }
   },
   "outputs": [],
   "source": [
    "oot2 = (oot\n",
    "    .keep_columns(columns=useful_columns))"
   ]
  },
  {
   "cell_type": "code",
   "execution_count": 21,
   "metadata": {
    "ExecuteTime": {
     "end_time": "2019-04-12T19:14:32.765952Z",
     "start_time": "2019-04-12T19:14:28.361474Z"
    }
   },
   "outputs": [
    {
     "data": {
      "text/plain": [
       "Column types conversion candidates:\n",
       "'person_1_marital_status': [FieldType.STRING],\n",
       "'apm_used_0_5_sports_car_domestic': [FieldType.INTEGER],\n",
       "'apm_used_0_5_mini_van_domestic': [FieldType.INTEGER],\n",
       "'apm_used_6_10_pickup': [FieldType.INTEGER],\n",
       "'act_int_hunting_enthusiasts': [FieldType.INTEGER],\n",
       "'consumerview_profitability_score': [FieldType.INTEGER],\n",
       "'apm_used_0_5_luxury_car_domestic': [FieldType.INTEGER],\n",
       "'apm_used_0_5_suv_domestic_premium': [FieldType.INTEGER],\n",
       "'apm_used_0_5_pickup': [FieldType.INTEGER],\n",
       "'auto_in_the_market_used_0_5_vehicle': [FieldType.INTEGER],\n",
       "'buyer_non_prestige_makeup_brand_user': [FieldType.INTEGER],\n",
       "'apm_used_0_5_small_car_standard': [FieldType.INTEGER],\n",
       "'apm_used_0_5_suv_domestic_standard': [FieldType.INTEGER],\n",
       "'auto_in_the_market_new': [FieldType.INTEGER],\n",
       "'buyer_presence_of_automobile': [FieldType.INTEGER],\n",
       "'sales_nonsd': [FieldType.DECIMAL]"
      ]
     },
     "execution_count": 21,
     "metadata": {},
     "output_type": "execute_result"
    }
   ],
   "source": [
    "type_infer = oot2.builders.set_column_types()\n",
    "type_infer.learn()\n",
    "type_infer"
   ]
  },
  {
   "cell_type": "code",
   "execution_count": 22,
   "metadata": {
    "ExecuteTime": {
     "end_time": "2019-04-12T19:16:03.713230Z",
     "start_time": "2019-04-12T19:16:03.685308Z"
    }
   },
   "outputs": [],
   "source": [
    "oot2 = type_infer.to_dataflow()"
   ]
  },
  {
   "cell_type": "code",
   "execution_count": 23,
   "metadata": {
    "ExecuteTime": {
     "end_time": "2019-04-12T22:48:48.640152Z",
     "start_time": "2019-04-12T22:48:44.571975Z"
    }
   },
   "outputs": [
    {
     "data": {
      "text/html": [
       "<div>\n",
       "<style scoped>\n",
       "    .dataframe tbody tr th:only-of-type {\n",
       "        vertical-align: middle;\n",
       "    }\n",
       "\n",
       "    .dataframe tbody tr th {\n",
       "        vertical-align: top;\n",
       "    }\n",
       "\n",
       "    .dataframe thead th {\n",
       "        text-align: right;\n",
       "    }\n",
       "</style>\n",
       "<table border=\"1\" class=\"dataframe\">\n",
       "  <thead>\n",
       "    <tr style=\"text-align: right;\">\n",
       "      <th></th>\n",
       "      <th>person_1_marital_status</th>\n",
       "      <th>apm_used_0_5_small_car_standard</th>\n",
       "      <th>apm_used_0_5_sports_car_domestic</th>\n",
       "      <th>apm_used_0_5_luxury_car_domestic</th>\n",
       "      <th>apm_used_0_5_suv_domestic_standard</th>\n",
       "      <th>apm_used_0_5_suv_domestic_premium</th>\n",
       "      <th>apm_used_0_5_mini_van_domestic</th>\n",
       "      <th>apm_used_0_5_pickup</th>\n",
       "      <th>apm_used_6_10_pickup</th>\n",
       "      <th>auto_in_the_market_new</th>\n",
       "      <th>auto_in_the_market_used_0_5_vehicle</th>\n",
       "      <th>act_int_hunting_enthusiasts</th>\n",
       "      <th>buyer_presence_of_automobile</th>\n",
       "      <th>buyer_non_prestige_makeup_brand_user</th>\n",
       "      <th>consumerview_profitability_score</th>\n",
       "      <th>sales_nonsd</th>\n",
       "    </tr>\n",
       "  </thead>\n",
       "  <tbody>\n",
       "    <tr>\n",
       "      <th>0</th>\n",
       "      <td>5U</td>\n",
       "      <td>8</td>\n",
       "      <td>9</td>\n",
       "      <td>6</td>\n",
       "      <td>9</td>\n",
       "      <td>9</td>\n",
       "      <td>9</td>\n",
       "      <td>9</td>\n",
       "      <td>9</td>\n",
       "      <td>2</td>\n",
       "      <td>8</td>\n",
       "      <td>76</td>\n",
       "      <td>99</td>\n",
       "      <td>99</td>\n",
       "      <td>5</td>\n",
       "      <td>0.00</td>\n",
       "    </tr>\n",
       "    <tr>\n",
       "      <th>1</th>\n",
       "      <td>5S</td>\n",
       "      <td>9</td>\n",
       "      <td>9</td>\n",
       "      <td>7</td>\n",
       "      <td>9</td>\n",
       "      <td>9</td>\n",
       "      <td>8</td>\n",
       "      <td>9</td>\n",
       "      <td>9</td>\n",
       "      <td>3</td>\n",
       "      <td>8</td>\n",
       "      <td>91</td>\n",
       "      <td>99</td>\n",
       "      <td>23</td>\n",
       "      <td>8</td>\n",
       "      <td>0.00</td>\n",
       "    </tr>\n",
       "    <tr>\n",
       "      <th>2</th>\n",
       "      <td>5M</td>\n",
       "      <td>4</td>\n",
       "      <td>1</td>\n",
       "      <td>1</td>\n",
       "      <td>1</td>\n",
       "      <td>1</td>\n",
       "      <td>4</td>\n",
       "      <td>1</td>\n",
       "      <td>1</td>\n",
       "      <td>2</td>\n",
       "      <td>1</td>\n",
       "      <td>18</td>\n",
       "      <td>40</td>\n",
       "      <td>52</td>\n",
       "      <td>2</td>\n",
       "      <td>0.00</td>\n",
       "    </tr>\n",
       "    <tr>\n",
       "      <th>3</th>\n",
       "      <td>5M</td>\n",
       "      <td>9</td>\n",
       "      <td>9</td>\n",
       "      <td>8</td>\n",
       "      <td>7</td>\n",
       "      <td>7</td>\n",
       "      <td>9</td>\n",
       "      <td>9</td>\n",
       "      <td>9</td>\n",
       "      <td>1</td>\n",
       "      <td>8</td>\n",
       "      <td>95</td>\n",
       "      <td>90</td>\n",
       "      <td>1</td>\n",
       "      <td>5</td>\n",
       "      <td>0.00</td>\n",
       "    </tr>\n",
       "    <tr>\n",
       "      <th>4</th>\n",
       "      <td>1M</td>\n",
       "      <td>5</td>\n",
       "      <td>5</td>\n",
       "      <td>3</td>\n",
       "      <td>3</td>\n",
       "      <td>3</td>\n",
       "      <td>6</td>\n",
       "      <td>7</td>\n",
       "      <td>7</td>\n",
       "      <td>3</td>\n",
       "      <td>4</td>\n",
       "      <td>15</td>\n",
       "      <td>18</td>\n",
       "      <td>27</td>\n",
       "      <td>5</td>\n",
       "      <td>0.00</td>\n",
       "    </tr>\n",
       "  </tbody>\n",
       "</table>\n",
       "</div>"
      ],
      "text/plain": [
       "  person_1_marital_status  apm_used_0_5_small_car_standard  \\\n",
       "0  5U                      8                                 \n",
       "1  5S                      9                                 \n",
       "2  5M                      4                                 \n",
       "3  5M                      9                                 \n",
       "4  1M                      5                                 \n",
       "\n",
       "   apm_used_0_5_sports_car_domestic  apm_used_0_5_luxury_car_domestic  \\\n",
       "0  9                                 6                                  \n",
       "1  9                                 7                                  \n",
       "2  1                                 1                                  \n",
       "3  9                                 8                                  \n",
       "4  5                                 3                                  \n",
       "\n",
       "   apm_used_0_5_suv_domestic_standard  apm_used_0_5_suv_domestic_premium  \\\n",
       "0  9                                   9                                   \n",
       "1  9                                   9                                   \n",
       "2  1                                   1                                   \n",
       "3  7                                   7                                   \n",
       "4  3                                   3                                   \n",
       "\n",
       "   apm_used_0_5_mini_van_domestic  apm_used_0_5_pickup  apm_used_6_10_pickup  \\\n",
       "0  9                               9                    9                      \n",
       "1  8                               9                    9                      \n",
       "2  4                               1                    1                      \n",
       "3  9                               9                    9                      \n",
       "4  6                               7                    7                      \n",
       "\n",
       "   auto_in_the_market_new  auto_in_the_market_used_0_5_vehicle  \\\n",
       "0  2                       8                                     \n",
       "1  3                       8                                     \n",
       "2  2                       1                                     \n",
       "3  1                       8                                     \n",
       "4  3                       4                                     \n",
       "\n",
       "   act_int_hunting_enthusiasts  buyer_presence_of_automobile  \\\n",
       "0  76                           99                             \n",
       "1  91                           99                             \n",
       "2  18                           40                             \n",
       "3  95                           90                             \n",
       "4  15                           18                             \n",
       "\n",
       "   buyer_non_prestige_makeup_brand_user  consumerview_profitability_score  \\\n",
       "0  99                                    5                                  \n",
       "1  23                                    8                                  \n",
       "2  52                                    2                                  \n",
       "3  1                                     5                                  \n",
       "4  27                                    5                                  \n",
       "\n",
       "   sales_nonsd  \n",
       "0 0.00          \n",
       "1 0.00          \n",
       "2 0.00          \n",
       "3 0.00          \n",
       "4 0.00          "
      ]
     },
     "execution_count": 23,
     "metadata": {},
     "output_type": "execute_result"
    }
   ],
   "source": [
    "oot2.head(5)"
   ]
  },
  {
   "cell_type": "code",
   "execution_count": 24,
   "metadata": {
    "ExecuteTime": {
     "end_time": "2019-04-12T19:17:04.457461Z",
     "start_time": "2019-04-12T19:17:04.452474Z"
    }
   },
   "outputs": [],
   "source": [
    "dflow_X = oot2.drop_columns('sales_nonsd')\n",
    "dflow_y = oot2.keep_columns('sales_nonsd')"
   ]
  },
  {
   "cell_type": "code",
   "execution_count": 25,
   "metadata": {
    "ExecuteTime": {
     "end_time": "2019-04-12T19:22:55.711740Z",
     "start_time": "2019-04-12T19:17:12.125491Z"
    }
   },
   "outputs": [],
   "source": [
    "x_valid = dflow_X.to_pandas_dataframe()\n",
    "y_valid = dflow_y.to_pandas_dataframe().values.flatten()"
   ]
  },
  {
   "cell_type": "code",
   "execution_count": 26,
   "metadata": {
    "ExecuteTime": {
     "end_time": "2019-04-10T21:00:49.146418Z",
     "start_time": "2019-04-10T21:00:32.080415Z"
    }
   },
   "outputs": [
    {
     "name": "stdout",
     "output_type": "stream",
     "text": [
      "Run(Experiment: automated-ml-regression,\n",
      "Id: AutoML_8dbbb6ef-dc56-4fc3-ab3f-b1631e1e48cf_2,\n",
      "Type: None,\n",
      "Status: Completed)\n",
      "Pipeline(memory=None,\n",
      "     steps=[('datatransformer', DataTransformer(enable_feature_sweeping=None, feature_sweeping_timeout=None,\n",
      "        is_onnx_compatible=None, logger=None, observer=None, task=None)), ('stackensembleclassifier', StackEnsembleClassifier(base_learners=[('0', Pipeline(memory=None,\n",
      "     steps=[('standardscale...olver='warn',\n",
      "          tol=0.0001, verbose=0, warm_start=False),\n",
      "            training_cv_folds=5))])\n",
      "Y_transformer(['LabelEncoder', LabelEncoder()])\n"
     ]
    }
   ],
   "source": [
    "best_run, fitted_model = local_run.get_output()\n",
    "print(best_run)\n",
    "print(fitted_model)"
   ]
  },
  {
   "cell_type": "code",
   "execution_count": 27,
   "metadata": {
    "ExecuteTime": {
     "end_time": "2019-04-10T21:01:38.284574Z",
     "start_time": "2019-04-10T21:01:29.306483Z"
    }
   },
   "outputs": [
    {
     "data": {
      "text/plain": [
       "[0.06113428963169904,\n",
       " 0.05360933275188112,\n",
       " 0.6190585140486702,\n",
       " 0.06572059010097338,\n",
       " 0.2619511607798809,\n",
       " 0.08130265629002645,\n",
       " 0.06422660494819021,\n",
       " 0.3652146737303583,\n",
       " 0.24014917464056826,\n",
       " 0.0743624937100273]"
      ]
     },
     "execution_count": 27,
     "metadata": {},
     "output_type": "execute_result"
    }
   ],
   "source": [
    "# generate prediction probability and show results on 10 samples\n",
    "y_predict = fitted_model.predict_proba(x_valid.values)\n",
    "y_predict = [i[1] for i in y_predict]\n",
    "y_predict[:10]"
   ]
  },
  {
   "cell_type": "code",
   "execution_count": 28,
   "metadata": {
    "ExecuteTime": {
     "end_time": "2019-04-10T21:01:50.168284Z",
     "start_time": "2019-04-10T21:01:42.252445Z"
    }
   },
   "outputs": [
    {
     "name": "stdout",
     "output_type": "stream",
     "text": [
      "(blue)  Best  roc: 0.7664055032466996\n",
      "(red) random roc: 0.5\n",
      "1 2.8329055348504486\n",
      "2 2.723565321224642\n",
      "3 2.6650296513037555\n",
      "4 2.603870920702452\n",
      "5 2.5532596551529307\n",
      "6 2.5142726900924157\n",
      "7 2.4599181394515925\n",
      "8 2.416874305353771\n",
      "9 2.3730875994341774\n",
      "10 2.3312658880944745\n",
      "11 2.2973493369807945\n",
      "12 2.276126391475602\n",
      "13 2.249120548114061\n",
      "14 2.2213576733589235\n",
      "15 2.197296515237804\n",
      "16 2.1697198641371034\n",
      "17 2.1500651811284985\n",
      "18 2.1300173097155275\n",
      "19 2.1103358775003205\n",
      "20 2.086327242873633\n",
      "21 2.06570959148034\n",
      "22 2.0450836925961853\n",
      "23 2.026899612272861\n",
      "24 2.0107140673649786\n",
      "25 1.997943903526106\n",
      "26 1.9779364285386332\n",
      "27 1.9594723468799888\n",
      "28 1.9409662922048656\n",
      "29 1.9235651375173284\n",
      "30 1.9066613918475916\n",
      "31 1.8894053043696966\n",
      "32 1.874366682917772\n",
      "33 1.8557213024233001\n",
      "34 1.8389523183830545\n",
      "35 1.8246562316282364\n",
      "36 1.8091755717529328\n",
      "37 1.792740709813136\n",
      "38 1.778827510510434\n",
      "39 1.7618896816463048\n",
      "40 1.7478695816046586\n",
      "41 1.7353011139593122\n",
      "42 1.7191894700147146\n",
      "43 1.7029410790959432\n",
      "44 1.687167690279753\n",
      "45 1.671690377212335\n",
      "46 1.6575702674992614\n",
      "47 1.6424295919110552\n",
      "48 1.6288516546263656\n",
      "49 1.615388394195245\n",
      "50 1.602430530783301\n",
      "51 1.589720949088936\n",
      "52 1.5768311576910494\n",
      "53 1.5639589046751334\n",
      "54 1.5507657458914932\n",
      "55 1.5378113681685786\n",
      "56 1.5245504786234654\n",
      "57 1.5119873985225203\n",
      "58 1.498629307289761\n",
      "59 1.48479742072908\n",
      "60 1.4708743737526147\n",
      "61 1.457353503073626\n",
      "62 1.4443756714425675\n",
      "63 1.4311524257746293\n",
      "64 1.4179282390579588\n",
      "65 1.4047286419548581\n",
      "66 1.3915023146373338\n",
      "67 1.3788438879759135\n",
      "68 1.3652909027607425\n",
      "69 1.3524909033279144\n",
      "70 1.3399856180258776\n",
      "71 1.3266659253355733\n",
      "72 1.3132330287203908\n",
      "73 1.3005312624022645\n",
      "74 1.2885533733948733\n",
      "75 1.276188048935553\n",
      "76 1.2639955397340576\n",
      "77 1.2512160809541115\n",
      "78 1.239104130328199\n",
      "79 1.2270052242922096\n",
      "80 1.2150638322905707\n",
      "81 1.2036013639078709\n",
      "82 1.1921558251351825\n",
      "83 1.1805270052753454\n",
      "84 1.1691947843395931\n",
      "85 1.1580902234281307\n",
      "86 1.1465889455993035\n",
      "87 1.135447275875933\n",
      "88 1.1238999231165059\n",
      "89 1.1128354326532572\n",
      "90 1.1018511527655168\n",
      "91 1.091162901113883\n",
      "92 1.0804188862540811\n",
      "93 1.0700484347162902\n",
      "94 1.0599162552314667\n",
      "95 1.0495614190243714\n",
      "96 1.0396121353313572\n",
      "97 1.0296118054407628\n",
      "98 1.0197648495304836\n",
      "99 1.0098658114310053\n",
      "100 1.0000984872973795\n"
     ]
    },
    {
     "data": {
      "image/png": "[encoded data removed]",
      "text/plain": [
       "<Figure size 432x288 with 1 Axes>"
      ]
     },
     "metadata": {
      "needs_background": "light"
     },
     "output_type": "display_data"
    }
   ],
   "source": [
    "rank_count = 100\n",
    "from sklearn import metrics\n",
    "fpr, tpr, thresholds = metrics.roc_curve(y_valid, y_predict)\n",
    "\n",
    "#plotting roc\n",
    "print(\"(blue) \", 'Best', \" roc:\", metrics.auc(fpr,tpr))\n",
    "print(\"(red) random roc: 0.5\")\n",
    "plt.plot(fpr,tpr,\n",
    "         [0,1],[0,1])\n",
    "\n",
    "#Lift\n",
    "deciles = pd.DataFrame({'y' : y_valid,\n",
    "                        'yhat' : y_predict})\n",
    "\n",
    "decile_length = deciles.shape[0]//rank_count\n",
    "overall_rate = deciles['y'].mean()\n",
    "\n",
    "decile_event_cum = 0\n",
    "decile_count_cum = 0\n",
    "for decile_n in range(rank_count):\n",
    "\n",
    "    decile_event = deciles.\\\n",
    "        sort_values('yhat', ascending= False).\\\n",
    "        reset_index(drop=True).\\\n",
    "        loc[decile_n*decile_length:(decile_n+1)*decile_length,'y'].\\\n",
    "        values.\\\n",
    "        sum()    \n",
    "\n",
    "    decile_count = deciles.\\\n",
    "        reset_index(drop=True).\\\n",
    "        loc[decile_n*decile_length:(decile_n+1)*decile_length,'y'].\\\n",
    "        count()\n",
    "\n",
    "    decile_event_cum += decile_event\n",
    "\n",
    "    decile_count_cum += decile_count\n",
    "\n",
    "    print(decile_n + 1, decile_event_cum / decile_count_cum / overall_rate)"
   ]
  },
  {
   "cell_type": "markdown",
   "metadata": {},
   "source": [
    "# Conclusion"
   ]
  },
  {
   "cell_type": "markdown",
   "metadata": {},
   "source": [
    "Only run on one xgboost model to test the flow and returned AUC at 0.7664. Will see if we can beat previous 0.7821 with more iterations."
   ]
  },
  {
   "cell_type": "code",
   "execution_count": null,
   "metadata": {},
   "outputs": [],
   "source": []
  }
 ],
 "metadata": {
  "kernelspec": {
   "display_name": "Python 3",
   "language": "python",
   "name": "python3"
  },
  "language_info": {
   "codemirror_mode": {
    "name": "ipython",
    "version": 3
   },
   "file_extension": ".py",
   "mimetype": "text/x-python",
   "name": "python",
   "nbconvert_exporter": "python",
   "pygments_lexer": "ipython3",
   "version": "3.6.5"
  },
  "varInspector": {
   "cols": {
    "lenName": 16,
    "lenType": 16,
    "lenVar": 40
   },
   "kernels_config": {
    "python": {
     "delete_cmd_postfix": "",
     "delete_cmd_prefix": "del ",
     "library": "var_list.py",
     "varRefreshCmd": "print(var_dic_list())"
    },
    "r": {
     "delete_cmd_postfix": ") ",
     "delete_cmd_prefix": "rm(",
     "library": "var_list.r",
     "varRefreshCmd": "cat(var_dic_list()) "
    }
   },
   "types_to_exclude": [
    "module",
    "function",
    "builtin_function_or_method",
    "instance",
    "_Feature"
   ],
   "window_display": false
  }
 },
 "nbformat": 4,
 "nbformat_minor": 2
}
