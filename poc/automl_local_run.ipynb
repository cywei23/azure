{
 "cells": [
  {
   "cell_type": "markdown",
   "metadata": {},
   "source": [
    "# Introduction"
   ]
  },
  {
   "cell_type": "markdown",
   "metadata": {},
   "source": [
    "Walk through the Azure Automatic Machine Learning model training using local machine. \n",
    "- Use Dataprep to select columns and infer data type\n",
    "- Use AutoML and understand prediction performance\n",
    "- Validate on Out-of-Time sample to benchmark previous model work"
   ]
  },
  {
   "cell_type": "markdown",
   "metadata": {},
   "source": [
    "### Imports\n",
    "Import libraries and write settings here."
   ]
  },
  {
   "cell_type": "code",
   "execution_count": 27,
   "metadata": {
    "ExecuteTime": {
     "end_time": "2019-05-09T20:50:17.763568Z",
     "start_time": "2019-05-09T20:50:17.754592Z"
    }
   },
   "outputs": [],
   "source": [
    "# Data manipulation\n",
    "import pandas as pd\n",
    "import numpy as np\n",
    "import os\n",
    "import importlib\n",
    "\n",
    "# Options for pandas\n",
    "pd.options.display.max_columns = 2000\n",
    "pd.options.display.max_rows = 30\n",
    "\n",
    "# Visualizations\n",
    "import matplotlib.pyplot as plt"
   ]
  },
  {
   "cell_type": "code",
   "execution_count": 28,
   "metadata": {
    "ExecuteTime": {
     "end_time": "2019-05-09T20:50:17.779526Z",
     "start_time": "2019-05-09T20:50:17.766561Z"
    }
   },
   "outputs": [],
   "source": [
    "# Import Azure libraries\n",
    "import azureml.dataprep as dprep"
   ]
  },
  {
   "cell_type": "markdown",
   "metadata": {},
   "source": [
    "# Dataprep"
   ]
  },
  {
   "cell_type": "markdown",
   "metadata": {},
   "source": [
    "### Load & Clean Data"
   ]
  },
  {
   "cell_type": "markdown",
   "metadata": {},
   "source": [
    "Here we are using the Conquest Model dataset which a RandomForest Model was fitted with OOT AUC at 0.7821 "
   ]
  },
  {
   "cell_type": "code",
   "execution_count": 29,
   "metadata": {
    "ExecuteTime": {
     "end_time": "2019-05-09T20:50:30.110059Z",
     "start_time": "2019-05-09T20:50:17.782517Z"
    }
   },
   "outputs": [],
   "source": [
    "train = dprep.read_csv('data/exp_all_201612_nonsd.csv')"
   ]
  },
  {
   "cell_type": "code",
   "execution_count": 30,
   "metadata": {
    "ExecuteTime": {
     "end_time": "2019-05-09T20:50:30.126745Z",
     "start_time": "2019-05-09T20:50:30.110059Z"
    }
   },
   "outputs": [],
   "source": [
    "# define the columns needed\n",
    "useful_columns = ['sales_nonsd','auto_in_the_market_used_0_5_vehicle',\n",
    "                  'apm_used_0_5_suv_domestic_standard','apm_used_0_5_pickup',\n",
    "                  'apm_used_0_5_sports_car_domestic','apm_used_0_5_suv_domestic_premium',\n",
    "                  'apm_used_0_5_luxury_car_domestic','act_int_hunting_enthusiasts',\n",
    "                  'buyer_non_prestige_makeup_brand_user','apm_used_0_5_mini_van_domestic',\n",
    "                  'auto_in_the_market_new','consumerview_profitability_score',\n",
    "                  'buyer_presence_of_automobile','apm_used_6_10_pickup',\n",
    "                  'apm_used_0_5_small_car_standard','person_1_marital_status']"
   ]
  },
  {
   "cell_type": "code",
   "execution_count": 31,
   "metadata": {
    "ExecuteTime": {
     "end_time": "2019-05-09T20:50:30.149692Z",
     "start_time": "2019-05-09T20:50:30.139714Z"
    }
   },
   "outputs": [],
   "source": [
    "train2 = (train\n",
    "    .keep_columns(columns=useful_columns))"
   ]
  },
  {
   "cell_type": "markdown",
   "metadata": {},
   "source": [
    "### Inferred Data Type"
   ]
  },
  {
   "cell_type": "code",
   "execution_count": 32,
   "metadata": {
    "ExecuteTime": {
     "end_time": "2019-05-09T20:50:30.220493Z",
     "start_time": "2019-05-09T20:50:30.153672Z"
    }
   },
   "outputs": [
    {
     "data": {
      "text/plain": [
       "Column types conversion candidates:\n",
       "'apm_used_0_5_small_car_standard': [FieldType.INTEGER],\n",
       "'apm_used_0_5_luxury_car_domestic': [FieldType.INTEGER],\n",
       "'apm_used_0_5_suv_domestic_premium': [FieldType.INTEGER],\n",
       "'apm_used_0_5_pickup': [FieldType.INTEGER],\n",
       "'auto_in_the_market_used_0_5_vehicle': [FieldType.INTEGER],\n",
       "'buyer_non_prestige_makeup_brand_user': [FieldType.INTEGER],\n",
       "'apm_used_0_5_sports_car_domestic': [FieldType.INTEGER],\n",
       "'apm_used_0_5_suv_domestic_standard': [FieldType.INTEGER],\n",
       "'apm_used_0_5_mini_van_domestic': [FieldType.INTEGER],\n",
       "'apm_used_6_10_pickup': [FieldType.INTEGER],\n",
       "'act_int_hunting_enthusiasts': [FieldType.INTEGER],\n",
       "'consumerview_profitability_score': [FieldType.INTEGER],\n",
       "'auto_in_the_market_new': [FieldType.INTEGER],\n",
       "'buyer_presence_of_automobile': [FieldType.INTEGER],\n",
       "'sales_nonsd': [FieldType.DECIMAL],\n",
       "'person_1_marital_status': [FieldType.STRING]"
      ]
     },
     "execution_count": 32,
     "metadata": {},
     "output_type": "execute_result"
    }
   ],
   "source": [
    "type_infer = train2.builders.set_column_types()\n",
    "type_infer.learn()\n",
    "type_infer"
   ]
  },
  {
   "cell_type": "code",
   "execution_count": 33,
   "metadata": {
    "ExecuteTime": {
     "end_time": "2019-05-09T20:50:30.226477Z",
     "start_time": "2019-05-09T20:50:30.222488Z"
    }
   },
   "outputs": [],
   "source": [
    "train2 = type_infer.to_dataflow()"
   ]
  },
  {
   "cell_type": "code",
   "execution_count": 34,
   "metadata": {
    "ExecuteTime": {
     "end_time": "2019-05-09T20:50:30.763539Z",
     "start_time": "2019-05-09T20:50:30.230467Z"
    }
   },
   "outputs": [
    {
     "data": {
      "text/html": [
       "<div>\n",
       "<style scoped>\n",
       "    .dataframe tbody tr th:only-of-type {\n",
       "        vertical-align: middle;\n",
       "    }\n",
       "\n",
       "    .dataframe tbody tr th {\n",
       "        vertical-align: top;\n",
       "    }\n",
       "\n",
       "    .dataframe thead th {\n",
       "        text-align: right;\n",
       "    }\n",
       "</style>\n",
       "<table border=\"1\" class=\"dataframe\">\n",
       "  <thead>\n",
       "    <tr style=\"text-align: right;\">\n",
       "      <th></th>\n",
       "      <th>person_1_marital_status</th>\n",
       "      <th>apm_used_0_5_small_car_standard</th>\n",
       "      <th>apm_used_0_5_sports_car_domestic</th>\n",
       "      <th>apm_used_0_5_luxury_car_domestic</th>\n",
       "      <th>apm_used_0_5_suv_domestic_standard</th>\n",
       "      <th>apm_used_0_5_suv_domestic_premium</th>\n",
       "      <th>apm_used_0_5_mini_van_domestic</th>\n",
       "      <th>apm_used_0_5_pickup</th>\n",
       "      <th>apm_used_6_10_pickup</th>\n",
       "      <th>auto_in_the_market_new</th>\n",
       "      <th>auto_in_the_market_used_0_5_vehicle</th>\n",
       "      <th>act_int_hunting_enthusiasts</th>\n",
       "      <th>buyer_presence_of_automobile</th>\n",
       "      <th>buyer_non_prestige_makeup_brand_user</th>\n",
       "      <th>consumerview_profitability_score</th>\n",
       "      <th>sales_nonsd</th>\n",
       "    </tr>\n",
       "  </thead>\n",
       "  <tbody>\n",
       "    <tr>\n",
       "      <th>0</th>\n",
       "      <td>1M</td>\n",
       "      <td>4</td>\n",
       "      <td>3</td>\n",
       "      <td>3</td>\n",
       "      <td>4</td>\n",
       "      <td>4</td>\n",
       "      <td>6</td>\n",
       "      <td>1</td>\n",
       "      <td>3</td>\n",
       "      <td>2</td>\n",
       "      <td>2</td>\n",
       "      <td>37</td>\n",
       "      <td>65</td>\n",
       "      <td>84</td>\n",
       "      <td>3</td>\n",
       "      <td>0.00</td>\n",
       "    </tr>\n",
       "    <tr>\n",
       "      <th>1</th>\n",
       "      <td>5U</td>\n",
       "      <td>8</td>\n",
       "      <td>6</td>\n",
       "      <td>4</td>\n",
       "      <td>8</td>\n",
       "      <td>8</td>\n",
       "      <td>9</td>\n",
       "      <td>8</td>\n",
       "      <td>8</td>\n",
       "      <td>2</td>\n",
       "      <td>8</td>\n",
       "      <td>44</td>\n",
       "      <td>69</td>\n",
       "      <td>14</td>\n",
       "      <td>3</td>\n",
       "      <td>0.00</td>\n",
       "    </tr>\n",
       "    <tr>\n",
       "      <th>2</th>\n",
       "      <td>5M</td>\n",
       "      <td>8</td>\n",
       "      <td>9</td>\n",
       "      <td>9</td>\n",
       "      <td>8</td>\n",
       "      <td>8</td>\n",
       "      <td>9</td>\n",
       "      <td>8</td>\n",
       "      <td>9</td>\n",
       "      <td>9</td>\n",
       "      <td>9</td>\n",
       "      <td>57</td>\n",
       "      <td>79</td>\n",
       "      <td>30</td>\n",
       "      <td>8</td>\n",
       "      <td>0.00</td>\n",
       "    </tr>\n",
       "    <tr>\n",
       "      <th>3</th>\n",
       "      <td>1M</td>\n",
       "      <td>8</td>\n",
       "      <td>8</td>\n",
       "      <td>6</td>\n",
       "      <td>8</td>\n",
       "      <td>8</td>\n",
       "      <td>8</td>\n",
       "      <td>7</td>\n",
       "      <td>4</td>\n",
       "      <td>6</td>\n",
       "      <td>6</td>\n",
       "      <td>18</td>\n",
       "      <td>26</td>\n",
       "      <td>64</td>\n",
       "      <td>3</td>\n",
       "      <td>0.00</td>\n",
       "    </tr>\n",
       "    <tr>\n",
       "      <th>4</th>\n",
       "      <td>5S</td>\n",
       "      <td>7</td>\n",
       "      <td>9</td>\n",
       "      <td>8</td>\n",
       "      <td>7</td>\n",
       "      <td>7</td>\n",
       "      <td>9</td>\n",
       "      <td>9</td>\n",
       "      <td>9</td>\n",
       "      <td>3</td>\n",
       "      <td>8</td>\n",
       "      <td>82</td>\n",
       "      <td>85</td>\n",
       "      <td>9</td>\n",
       "      <td>6</td>\n",
       "      <td>0.00</td>\n",
       "    </tr>\n",
       "  </tbody>\n",
       "</table>\n",
       "</div>"
      ],
      "text/plain": [
       "  person_1_marital_status  apm_used_0_5_small_car_standard  \\\n",
       "0  1M                      4                                 \n",
       "1  5U                      8                                 \n",
       "2  5M                      8                                 \n",
       "3  1M                      8                                 \n",
       "4  5S                      7                                 \n",
       "\n",
       "   apm_used_0_5_sports_car_domestic  apm_used_0_5_luxury_car_domestic  \\\n",
       "0  3                                 3                                  \n",
       "1  6                                 4                                  \n",
       "2  9                                 9                                  \n",
       "3  8                                 6                                  \n",
       "4  9                                 8                                  \n",
       "\n",
       "   apm_used_0_5_suv_domestic_standard  apm_used_0_5_suv_domestic_premium  \\\n",
       "0  4                                   4                                   \n",
       "1  8                                   8                                   \n",
       "2  8                                   8                                   \n",
       "3  8                                   8                                   \n",
       "4  7                                   7                                   \n",
       "\n",
       "   apm_used_0_5_mini_van_domestic  apm_used_0_5_pickup  apm_used_6_10_pickup  \\\n",
       "0  6                               1                    3                      \n",
       "1  9                               8                    8                      \n",
       "2  9                               8                    9                      \n",
       "3  8                               7                    4                      \n",
       "4  9                               9                    9                      \n",
       "\n",
       "   auto_in_the_market_new  auto_in_the_market_used_0_5_vehicle  \\\n",
       "0  2                       2                                     \n",
       "1  2                       8                                     \n",
       "2  9                       9                                     \n",
       "3  6                       6                                     \n",
       "4  3                       8                                     \n",
       "\n",
       "   act_int_hunting_enthusiasts  buyer_presence_of_automobile  \\\n",
       "0  37                           65                             \n",
       "1  44                           69                             \n",
       "2  57                           79                             \n",
       "3  18                           26                             \n",
       "4  82                           85                             \n",
       "\n",
       "   buyer_non_prestige_makeup_brand_user  consumerview_profitability_score  \\\n",
       "0  84                                    3                                  \n",
       "1  14                                    3                                  \n",
       "2  30                                    8                                  \n",
       "3  64                                    3                                  \n",
       "4  9                                     6                                  \n",
       "\n",
       "   sales_nonsd  \n",
       "0 0.00          \n",
       "1 0.00          \n",
       "2 0.00          \n",
       "3 0.00          \n",
       "4 0.00          "
      ]
     },
     "execution_count": 34,
     "metadata": {},
     "output_type": "execute_result"
    }
   ],
   "source": [
    "train2.head(5)"
   ]
  },
  {
   "cell_type": "markdown",
   "metadata": {},
   "source": [
    "# AutoML"
   ]
  },
  {
   "cell_type": "code",
   "execution_count": 35,
   "metadata": {
    "ExecuteTime": {
     "end_time": "2019-05-09T20:50:30.779497Z",
     "start_time": "2019-05-09T20:50:30.772517Z"
    }
   },
   "outputs": [],
   "source": [
    "# import libraries\n",
    "import azureml.core\n",
    "import pandas as pd\n",
    "from azureml.core.workspace import Workspace\n",
    "import logging\n",
    "import os"
   ]
  },
  {
   "cell_type": "code",
   "execution_count": 36,
   "metadata": {
    "ExecuteTime": {
     "end_time": "2019-05-09T20:50:32.998708Z",
     "start_time": "2019-05-09T20:50:30.782491Z"
    }
   },
   "outputs": [],
   "source": [
    "# configure workspace\n",
    "ws = Workspace.from_config()\n",
    "# choose a name for the run history container in the workspace\n",
    "experiment_name = 'automated-ml-regression'\n",
    "# project folder\n",
    "project_folder = './automated-ml-regression'\n",
    "\n",
    "output = {}\n",
    "output['SDK version'] = azureml.core.VERSION\n",
    "output['Subscription ID'] = ws.subscription_id\n",
    "output['Workspace'] = ws.name\n",
    "output['Resource Group'] = ws.resource_group\n",
    "output['Location'] = ws.location\n",
    "output['Project Directory'] = project_folder\n",
    "pd.set_option('display.max_colwidth', -1)\n",
    "outputDf = pd.DataFrame(data = output, index = [''])\n",
    "# outputDf.T"
   ]
  },
  {
   "cell_type": "code",
   "execution_count": 37,
   "metadata": {
    "ExecuteTime": {
     "end_time": "2019-05-09T20:50:33.012672Z",
     "start_time": "2019-05-09T20:50:33.003695Z"
    }
   },
   "outputs": [],
   "source": [
    "dflow_X = train2.drop_columns('sales_nonsd')\n",
    "dflow_y = train2.keep_columns('sales_nonsd')"
   ]
  },
  {
   "cell_type": "code",
   "execution_count": 38,
   "metadata": {
    "ExecuteTime": {
     "end_time": "2019-05-09T20:53:19.266991Z",
     "start_time": "2019-05-09T20:50:33.015663Z"
    }
   },
   "outputs": [],
   "source": [
    "x_train = dflow_X.to_pandas_dataframe()\n",
    "y_train = dflow_y.to_pandas_dataframe()"
   ]
  },
  {
   "cell_type": "markdown",
   "metadata": {},
   "source": [
    "## Automatically Training"
   ]
  },
  {
   "cell_type": "markdown",
   "metadata": {},
   "source": [
    "### Define Settings for Autogeneration and Tuning"
   ]
  },
  {
   "cell_type": "code",
   "execution_count": 39,
   "metadata": {
    "ExecuteTime": {
     "end_time": "2019-05-09T20:53:19.282521Z",
     "start_time": "2019-05-09T20:53:19.266991Z"
    }
   },
   "outputs": [],
   "source": [
    "automl_settings = {\n",
    "    \"iteration_timeout_minutes\" : 10,\n",
    "    \"iterations\" : 22,\n",
    "    \"primary_metric\" : 'AUC_weighted',\n",
    "    \"preprocess\" : True,\n",
    "    \"verbosity\" : logging.INFO,\n",
    "    \"n_cross_validations\": 5,\n",
    "    \"max_cores_per_iteration\": 2,\n",
    "    \"max_concurrent_iterations\": 1,\n",
    "}"
   ]
  },
  {
   "cell_type": "code",
   "execution_count": 40,
   "metadata": {
    "ExecuteTime": {
     "end_time": "2019-05-09T20:53:19.298172Z",
     "start_time": "2019-05-09T20:53:19.282521Z"
    }
   },
   "outputs": [],
   "source": [
    "# any model specifically want to whitelist and focus on for training\n",
    "ALL = ['LogisticRegression', 'SGD', 'MultinomialNaiveBayes', 'BernoulliNaiveBayes', 'SVM', 'LinearSVM',\n",
    "       'KNN', 'DecisionTree', 'RandomForest', 'ExtremeRandomTrees', 'LightGBM', 'XGBoostClassifier',\n",
    "       'GradientBoosting', 'TensorFlowDNN', 'TensorFlowLinearClassifier']\n",
    "TRY = ['XGBoostClassifier']"
   ]
  },
  {
   "cell_type": "code",
   "execution_count": 41,
   "metadata": {
    "ExecuteTime": {
     "end_time": "2019-05-09T20:53:19.414018Z",
     "start_time": "2019-05-09T20:53:19.298172Z"
    }
   },
   "outputs": [],
   "source": [
    "from azureml.train.automl import AutoMLConfig\n",
    "\n",
    "# local compute \n",
    "automated_ml_config = AutoMLConfig(task = 'classification',\n",
    "                             debug_log = 'automated_ml_errors.log',\n",
    "                             path = project_folder,\n",
    "                             X = x_train.values,\n",
    "                             y = y_train.values.flatten(),\n",
    "#                              auto_blacklist=False,\n",
    "#                              blacklist_models=[],\n",
    "#                              enable_early_stopping=True,\n",
    "#                              enable_tf=True,\n",
    "#                              whitelist_models=TRY,\n",
    "#                              enable_onnx_compatible_models=True,\n",
    "#                              iterations=5,\n",
    "#                              n_cross_validations=2,\n",
    "#                              verbosity=100,\n",
    "                             **automl_settings)"
   ]
  },
  {
   "cell_type": "markdown",
   "metadata": {},
   "source": [
    "### Train Automatic Models"
   ]
  },
  {
   "cell_type": "code",
   "execution_count": 42,
   "metadata": {
    "ExecuteTime": {
     "end_time": "2019-05-09T21:55:18.433363Z",
     "start_time": "2019-05-09T20:53:19.414018Z"
    }
   },
   "outputs": [
    {
     "name": "stdout",
     "output_type": "stream",
     "text": [
      "Running on local machine\n",
      "Parent Run ID: AutoML_9565dec3-7e7b-4f85-bcb1-c5732603bb53\n",
      "Current status: DatasetEvaluation. Gathering dataset statistics.\n",
      "Current status: FeaturesGeneration. Generating features for the dataset.\n",
      "Current status: DatasetFeaturization. Featurizing the dataset.\n",
      "Current status: DatasetCrossValidationSplit. Generating individually featurized CV splits.\n",
      "Current status: DatasetFeaturization. Featurizing the dataset.\n",
      "Current status: DatasetFeaturization. Featurizing the dataset.\n",
      "Current status: DatasetFeaturization. Featurizing the dataset.\n",
      "Current status: DatasetFeaturization. Featurizing the dataset.\n",
      "Current status: DatasetFeaturization. Featurizing the dataset.\n",
      "Current status: DatasetFeaturization. Featurizing the dataset.\n",
      "Current status: DatasetFeaturization. Featurizing the dataset.\n",
      "Current status: DatasetFeaturization. Featurizing the dataset.\n",
      "Current status: DatasetFeaturization. Featurizing the dataset.\n",
      "Current status: DatasetFeaturization. Featurizing the dataset.\n",
      "Current status: ModelSelection. Beginning model selection.\n",
      "\n",
      "****************************************************************************************************\n",
      "ITERATION: The iteration being evaluated.\n",
      "PIPELINE: A summary description of the pipeline being evaluated.\n",
      "DURATION: Time taken for the current iteration.\n",
      "METRIC: The result of computing score on the fitted pipeline.\n",
      "BEST: The best observed score thus far.\n",
      "****************************************************************************************************\n",
      "\n",
      " ITERATION   PIPELINE                                       DURATION      METRIC      BEST\n",
      "         0   MaxAbsScaler LightGBM                          0:01:15       0.7752    0.7752\n",
      "         1   StandardScalerWrapper XGBoostClassifier        0:01:23       0.7783    0.7783\n",
      "         2   MaxAbsScaler SGD                               0:01:09       0.7805    0.7805\n",
      "         3   StandardScalerWrapper LightGBM                 0:01:10       0.7798    0.7805\n",
      "         4   SparseNormalizer XGBoostClassifier             0:01:10       0.7654    0.7805\n",
      "         5   MaxAbsScaler RandomForest                      0:00:51       0.7674    0.7805\n",
      "         6   MaxAbsScaler SGD                               0:00:44       0.7683    0.7805\n",
      "         7   MaxAbsScaler ExtremeRandomTrees                0:00:54       0.7629    0.7805\n",
      "         8   MaxAbsScaler SGD                               0:01:10       0.7803    0.7805\n",
      "         9   StandardScalerWrapper XGBoostClassifier        0:01:24       0.7828    0.7828\n",
      "        10   MaxAbsScaler RandomForest                      0:01:48       0.7651    0.7828\n",
      "        11   MaxAbsScaler LightGBM                          0:01:06       0.7747    0.7828\n",
      "        12   MaxAbsScaler BernoulliNaiveBayes               0:01:06       0.7638    0.7828\n",
      "        13   MaxAbsScaler LightGBM                          0:01:18       0.7846    0.7846\n",
      "        14   MaxAbsScaler ExtremeRandomTrees                0:01:55       0.7548    0.7846\n",
      "        15   MaxAbsScaler ExtremeRandomTrees                0:01:26       0.7694    0.7846\n",
      "        16   MaxAbsScaler SGD                               0:01:17       0.7832    0.7846\n",
      "        17   MaxAbsScaler LightGBM                          0:01:09       0.7769    0.7846\n",
      "        18   StandardScalerWrapper BernoulliNaiveBayes      0:01:09       0.7613    0.7846\n",
      "        19   MaxAbsScaler LogisticRegression                0:06:55       0.7856    0.7856\n",
      "        20   VotingEnsemble                                 0:07:19       0.7866    0.7866\n",
      "        21   StackEnsemble                                  0:06:56       0.7853    0.7866\n"
     ]
    }
   ],
   "source": [
    "from azureml.core.experiment import Experiment\n",
    "experiment=Experiment(ws, experiment_name)\n",
    "local_run = experiment.submit(automated_ml_config, show_output=True)"
   ]
  },
  {
   "cell_type": "markdown",
   "metadata": {},
   "source": [
    "# Out of Time Sample Validation"
   ]
  },
  {
   "cell_type": "code",
   "execution_count": 43,
   "metadata": {
    "ExecuteTime": {
     "end_time": "2019-05-09T21:55:29.881467Z",
     "start_time": "2019-05-09T21:55:18.433363Z"
    }
   },
   "outputs": [],
   "source": [
    "oot = dprep.read_csv('data2/exp_all_201704_nonsd.csv')"
   ]
  },
  {
   "cell_type": "code",
   "execution_count": 44,
   "metadata": {
    "ExecuteTime": {
     "end_time": "2019-05-09T21:55:29.888766Z",
     "start_time": "2019-05-09T21:55:29.881467Z"
    }
   },
   "outputs": [],
   "source": [
    "oot2 = (oot\n",
    "    .keep_columns(columns=useful_columns))"
   ]
  },
  {
   "cell_type": "code",
   "execution_count": 45,
   "metadata": {
    "ExecuteTime": {
     "end_time": "2019-05-09T21:55:30.249670Z",
     "start_time": "2019-05-09T21:55:29.892757Z"
    }
   },
   "outputs": [
    {
     "data": {
      "text/plain": [
       "Column types conversion candidates:\n",
       "'apm_used_0_5_small_car_standard': [FieldType.INTEGER],\n",
       "'apm_used_0_5_suv_domestic_premium': [FieldType.INTEGER],\n",
       "'apm_used_6_10_pickup': [FieldType.INTEGER],\n",
       "'act_int_hunting_enthusiasts': [FieldType.INTEGER],\n",
       "'consumerview_profitability_score': [FieldType.INTEGER],\n",
       "'apm_used_0_5_sports_car_domestic': [FieldType.INTEGER],\n",
       "'apm_used_0_5_mini_van_domestic': [FieldType.INTEGER],\n",
       "'auto_in_the_market_new': [FieldType.INTEGER],\n",
       "'buyer_presence_of_automobile': [FieldType.INTEGER],\n",
       "'sales_nonsd': [FieldType.DECIMAL],\n",
       "'apm_used_0_5_luxury_car_domestic': [FieldType.INTEGER],\n",
       "'apm_used_0_5_suv_domestic_standard': [FieldType.INTEGER],\n",
       "'apm_used_0_5_pickup': [FieldType.INTEGER],\n",
       "'auto_in_the_market_used_0_5_vehicle': [FieldType.INTEGER],\n",
       "'buyer_non_prestige_makeup_brand_user': [FieldType.INTEGER],\n",
       "'person_1_marital_status': [FieldType.STRING]"
      ]
     },
     "execution_count": 45,
     "metadata": {},
     "output_type": "execute_result"
    }
   ],
   "source": [
    "type_infer = oot2.builders.set_column_types()\n",
    "type_infer.learn()\n",
    "type_infer"
   ]
  },
  {
   "cell_type": "code",
   "execution_count": 46,
   "metadata": {
    "ExecuteTime": {
     "end_time": "2019-05-09T21:55:30.256834Z",
     "start_time": "2019-05-09T21:55:30.252663Z"
    }
   },
   "outputs": [],
   "source": [
    "oot2 = type_infer.to_dataflow()"
   ]
  },
  {
   "cell_type": "code",
   "execution_count": 47,
   "metadata": {
    "ExecuteTime": {
     "end_time": "2019-05-09T21:55:30.697110Z",
     "start_time": "2019-05-09T21:55:30.259643Z"
    }
   },
   "outputs": [
    {
     "data": {
      "text/html": [
       "<div>\n",
       "<style scoped>\n",
       "    .dataframe tbody tr th:only-of-type {\n",
       "        vertical-align: middle;\n",
       "    }\n",
       "\n",
       "    .dataframe tbody tr th {\n",
       "        vertical-align: top;\n",
       "    }\n",
       "\n",
       "    .dataframe thead th {\n",
       "        text-align: right;\n",
       "    }\n",
       "</style>\n",
       "<table border=\"1\" class=\"dataframe\">\n",
       "  <thead>\n",
       "    <tr style=\"text-align: right;\">\n",
       "      <th></th>\n",
       "      <th>person_1_marital_status</th>\n",
       "      <th>apm_used_0_5_small_car_standard</th>\n",
       "      <th>apm_used_0_5_sports_car_domestic</th>\n",
       "      <th>apm_used_0_5_luxury_car_domestic</th>\n",
       "      <th>apm_used_0_5_suv_domestic_standard</th>\n",
       "      <th>apm_used_0_5_suv_domestic_premium</th>\n",
       "      <th>apm_used_0_5_mini_van_domestic</th>\n",
       "      <th>apm_used_0_5_pickup</th>\n",
       "      <th>apm_used_6_10_pickup</th>\n",
       "      <th>auto_in_the_market_new</th>\n",
       "      <th>auto_in_the_market_used_0_5_vehicle</th>\n",
       "      <th>act_int_hunting_enthusiasts</th>\n",
       "      <th>buyer_presence_of_automobile</th>\n",
       "      <th>buyer_non_prestige_makeup_brand_user</th>\n",
       "      <th>consumerview_profitability_score</th>\n",
       "      <th>sales_nonsd</th>\n",
       "    </tr>\n",
       "  </thead>\n",
       "  <tbody>\n",
       "    <tr>\n",
       "      <th>0</th>\n",
       "      <td>5U</td>\n",
       "      <td>8</td>\n",
       "      <td>9</td>\n",
       "      <td>6</td>\n",
       "      <td>9</td>\n",
       "      <td>9</td>\n",
       "      <td>9</td>\n",
       "      <td>9</td>\n",
       "      <td>9</td>\n",
       "      <td>2</td>\n",
       "      <td>8</td>\n",
       "      <td>76</td>\n",
       "      <td>99</td>\n",
       "      <td>99</td>\n",
       "      <td>5</td>\n",
       "      <td>0.00</td>\n",
       "    </tr>\n",
       "    <tr>\n",
       "      <th>1</th>\n",
       "      <td>5S</td>\n",
       "      <td>9</td>\n",
       "      <td>9</td>\n",
       "      <td>7</td>\n",
       "      <td>9</td>\n",
       "      <td>9</td>\n",
       "      <td>8</td>\n",
       "      <td>9</td>\n",
       "      <td>9</td>\n",
       "      <td>3</td>\n",
       "      <td>8</td>\n",
       "      <td>91</td>\n",
       "      <td>99</td>\n",
       "      <td>23</td>\n",
       "      <td>8</td>\n",
       "      <td>0.00</td>\n",
       "    </tr>\n",
       "    <tr>\n",
       "      <th>2</th>\n",
       "      <td>5M</td>\n",
       "      <td>4</td>\n",
       "      <td>1</td>\n",
       "      <td>1</td>\n",
       "      <td>1</td>\n",
       "      <td>1</td>\n",
       "      <td>4</td>\n",
       "      <td>1</td>\n",
       "      <td>1</td>\n",
       "      <td>2</td>\n",
       "      <td>1</td>\n",
       "      <td>18</td>\n",
       "      <td>40</td>\n",
       "      <td>52</td>\n",
       "      <td>2</td>\n",
       "      <td>0.00</td>\n",
       "    </tr>\n",
       "    <tr>\n",
       "      <th>3</th>\n",
       "      <td>5M</td>\n",
       "      <td>9</td>\n",
       "      <td>9</td>\n",
       "      <td>8</td>\n",
       "      <td>7</td>\n",
       "      <td>7</td>\n",
       "      <td>9</td>\n",
       "      <td>9</td>\n",
       "      <td>9</td>\n",
       "      <td>1</td>\n",
       "      <td>8</td>\n",
       "      <td>95</td>\n",
       "      <td>90</td>\n",
       "      <td>1</td>\n",
       "      <td>5</td>\n",
       "      <td>0.00</td>\n",
       "    </tr>\n",
       "    <tr>\n",
       "      <th>4</th>\n",
       "      <td>1M</td>\n",
       "      <td>5</td>\n",
       "      <td>5</td>\n",
       "      <td>3</td>\n",
       "      <td>3</td>\n",
       "      <td>3</td>\n",
       "      <td>6</td>\n",
       "      <td>7</td>\n",
       "      <td>7</td>\n",
       "      <td>3</td>\n",
       "      <td>4</td>\n",
       "      <td>15</td>\n",
       "      <td>18</td>\n",
       "      <td>27</td>\n",
       "      <td>5</td>\n",
       "      <td>0.00</td>\n",
       "    </tr>\n",
       "  </tbody>\n",
       "</table>\n",
       "</div>"
      ],
      "text/plain": [
       "  person_1_marital_status  apm_used_0_5_small_car_standard  \\\n",
       "0  5U                      8                                 \n",
       "1  5S                      9                                 \n",
       "2  5M                      4                                 \n",
       "3  5M                      9                                 \n",
       "4  1M                      5                                 \n",
       "\n",
       "   apm_used_0_5_sports_car_domestic  apm_used_0_5_luxury_car_domestic  \\\n",
       "0  9                                 6                                  \n",
       "1  9                                 7                                  \n",
       "2  1                                 1                                  \n",
       "3  9                                 8                                  \n",
       "4  5                                 3                                  \n",
       "\n",
       "   apm_used_0_5_suv_domestic_standard  apm_used_0_5_suv_domestic_premium  \\\n",
       "0  9                                   9                                   \n",
       "1  9                                   9                                   \n",
       "2  1                                   1                                   \n",
       "3  7                                   7                                   \n",
       "4  3                                   3                                   \n",
       "\n",
       "   apm_used_0_5_mini_van_domestic  apm_used_0_5_pickup  apm_used_6_10_pickup  \\\n",
       "0  9                               9                    9                      \n",
       "1  8                               9                    9                      \n",
       "2  4                               1                    1                      \n",
       "3  9                               9                    9                      \n",
       "4  6                               7                    7                      \n",
       "\n",
       "   auto_in_the_market_new  auto_in_the_market_used_0_5_vehicle  \\\n",
       "0  2                       8                                     \n",
       "1  3                       8                                     \n",
       "2  2                       1                                     \n",
       "3  1                       8                                     \n",
       "4  3                       4                                     \n",
       "\n",
       "   act_int_hunting_enthusiasts  buyer_presence_of_automobile  \\\n",
       "0  76                           99                             \n",
       "1  91                           99                             \n",
       "2  18                           40                             \n",
       "3  95                           90                             \n",
       "4  15                           18                             \n",
       "\n",
       "   buyer_non_prestige_makeup_brand_user  consumerview_profitability_score  \\\n",
       "0  99                                    5                                  \n",
       "1  23                                    8                                  \n",
       "2  52                                    2                                  \n",
       "3  1                                     5                                  \n",
       "4  27                                    5                                  \n",
       "\n",
       "   sales_nonsd  \n",
       "0 0.00          \n",
       "1 0.00          \n",
       "2 0.00          \n",
       "3 0.00          \n",
       "4 0.00          "
      ]
     },
     "execution_count": 47,
     "metadata": {},
     "output_type": "execute_result"
    }
   ],
   "source": [
    "oot2.head(5)"
   ]
  },
  {
   "cell_type": "code",
   "execution_count": 48,
   "metadata": {
    "ExecuteTime": {
     "end_time": "2019-05-09T21:55:30.706090Z",
     "start_time": "2019-05-09T21:55:30.702097Z"
    }
   },
   "outputs": [],
   "source": [
    "dflow_X = oot2.drop_columns('sales_nonsd')\n",
    "dflow_y = oot2.keep_columns('sales_nonsd')"
   ]
  },
  {
   "cell_type": "code",
   "execution_count": 49,
   "metadata": {
    "ExecuteTime": {
     "end_time": "2019-05-09T21:58:51.524952Z",
     "start_time": "2019-05-09T21:55:30.714064Z"
    }
   },
   "outputs": [],
   "source": [
    "x_valid = dflow_X.to_pandas_dataframe()\n",
    "y_valid = dflow_y.to_pandas_dataframe().values.flatten()"
   ]
  },
  {
   "cell_type": "code",
   "execution_count": 50,
   "metadata": {
    "ExecuteTime": {
     "end_time": "2019-05-09T21:59:29.791368Z",
     "start_time": "2019-05-09T21:58:51.530103Z"
    }
   },
   "outputs": [
    {
     "name": "stdout",
     "output_type": "stream",
     "text": [
      "Run(Experiment: automated-ml-regression,\n",
      "Id: AutoML_9565dec3-7e7b-4f85-bcb1-c5732603bb53_20,\n",
      "Type: None,\n",
      "Status: Completed)\n",
      "Pipeline(memory=None,\n",
      "     steps=[('datatransformer', DataTransformer(enable_feature_sweeping=None, feature_sweeping_timeout=None,\n",
      "        is_onnx_compatible=None, logger=None, observer=None, task=None)), ('prefittedsoftvotingclassifier', PreFittedSoftVotingClassifier(classification_labels=None,\n",
      "               estimators=[('1...\n",
      "               weights=[0.4, 0.26666666666666666, 0.06666666666666667, 0.2, 0.06666666666666667]))])\n",
      "Y_transformer(['LabelEncoder', LabelEncoder()])\n"
     ]
    }
   ],
   "source": [
    "best_run, fitted_model = local_run.get_output()\n",
    "print(best_run)\n",
    "print(fitted_model)"
   ]
  },
  {
   "cell_type": "code",
   "execution_count": 51,
   "metadata": {
    "ExecuteTime": {
     "end_time": "2019-05-09T22:01:35.421852Z",
     "start_time": "2019-05-09T21:59:29.794359Z"
    }
   },
   "outputs": [
    {
     "data": {
      "text/plain": [
       "[0.052346208353338475,\n",
       " 0.02557233395758957,\n",
       " 0.49936115376951995,\n",
       " 0.05946531559405773,\n",
       " 0.2731396874421991,\n",
       " 0.12080454879736502,\n",
       " 0.07581706135082152,\n",
       " 0.3541607057587991,\n",
       " 0.3655941005143478,\n",
       " 0.0845862397618308]"
      ]
     },
     "execution_count": 51,
     "metadata": {},
     "output_type": "execute_result"
    }
   ],
   "source": [
    "# generate prediction probability and show results on 10 samples\n",
    "y_predict = fitted_model.predict_proba(x_valid.values)\n",
    "y_predict = [i[1] for i in y_predict]\n",
    "y_predict[:10]"
   ]
  },
  {
   "cell_type": "code",
   "execution_count": 52,
   "metadata": {
    "ExecuteTime": {
     "end_time": "2019-05-09T22:01:42.428375Z",
     "start_time": "2019-05-09T22:01:35.424877Z"
    }
   },
   "outputs": [
    {
     "name": "stdout",
     "output_type": "stream",
     "text": [
      "(blue)  Best  roc: 0.7735698125764685\n",
      "(red) random roc: 0.5\n",
      "1 2.8610689232086113\n",
      "2 2.764153733858464\n",
      "3 2.6561940784855085\n",
      "4 2.623336792067652\n",
      "5 2.5817543774917775\n",
      "6 2.529458830873778\n",
      "7 2.4795615111635882\n",
      "8 2.443381023808512\n",
      "9 2.4071413696711708\n",
      "10 2.38063465121643\n",
      "11 2.3515676247291286\n",
      "12 2.3204423113921218\n",
      "13 2.299075517509534\n",
      "14 2.2765011144299474\n",
      "15 2.2520770667109358\n",
      "16 2.227185601412031\n",
      "17 2.200544887597454\n",
      "18 2.177876662481032\n",
      "19 2.156112282726436\n",
      "20 2.1332110011404564\n",
      "21 2.1104396788727153\n",
      "22 2.0928259070856905\n",
      "23 2.0766717385017364\n",
      "24 2.0564105455343498\n",
      "25 2.0349207757704697\n",
      "26 2.017696506220745\n",
      "27 1.997146247646681\n",
      "28 1.9784780321609055\n",
      "29 1.9606973939733234\n",
      "30 1.9445439103058255\n",
      "31 1.92654677478511\n",
      "32 1.9085354996758368\n",
      "33 1.8891559132014395\n",
      "34 1.8706726744750333\n",
      "35 1.8539556222058875\n",
      "36 1.8386274811470895\n",
      "37 1.8236801396310853\n",
      "38 1.8067293194101617\n",
      "39 1.7903504210127734\n",
      "40 1.7742934665642283\n",
      "41 1.7589389650203235\n",
      "42 1.743447850743384\n",
      "43 1.7271746923343618\n",
      "44 1.7109258427583631\n",
      "45 1.696503610876912\n",
      "46 1.681483937409517\n",
      "47 1.6666451711376604\n",
      "48 1.651182184366232\n",
      "49 1.636553197451199\n",
      "50 1.6213497010803728\n",
      "51 1.606807387700693\n",
      "52 1.5915181735656114\n",
      "53 1.5768059109073251\n",
      "54 1.5624237933600136\n",
      "55 1.5487755108021306\n",
      "56 1.5341354973504029\n",
      "57 1.5203579411924384\n",
      "58 1.5055987461938092\n",
      "59 1.4924349497753613\n",
      "60 1.478936833949265\n",
      "61 1.465528218498705\n",
      "62 1.452124611313409\n",
      "63 1.438541699470842\n",
      "64 1.4242960639992348\n",
      "65 1.4103613196264906\n",
      "66 1.3967233349390251\n",
      "67 1.3836408127708948\n",
      "68 1.3704801776052828\n",
      "69 1.3571968062419808\n",
      "70 1.3445296269038334\n",
      "71 1.3318459354561303\n",
      "72 1.3190543826865795\n",
      "73 1.3061140130357116\n",
      "74 1.2928069853090634\n",
      "75 1.2800094341794448\n",
      "76 1.2669165103532478\n",
      "77 1.2543788144060977\n",
      "78 1.241971443622582\n",
      "79 1.2295845964203214\n",
      "80 1.2178387543788014\n",
      "81 1.2058102571124327\n",
      "82 1.19399432466215\n",
      "83 1.1821637153004125\n",
      "84 1.1707922874607493\n",
      "85 1.158811362091973\n",
      "86 1.1471090628945637\n",
      "87 1.1356948242523064\n",
      "88 1.1245023485359316\n",
      "89 1.1135241605906347\n",
      "90 1.1023297462931716\n",
      "91 1.091563414716908\n",
      "92 1.0808150464483777\n",
      "93 1.0704581487784266\n",
      "94 1.0603921072250027\n",
      "95 1.0500497006801164\n",
      "96 1.0398192190692848\n",
      "97 1.0298509124371327\n",
      "98 1.0199338974798124\n",
      "99 1.0099996837464331\n",
      "100 1.0001647540935164\n"
     ]
    },
    {
     "data": {
      "image/png": "[encoded data removed]",
      "text/plain": [
       "<Figure size 432x288 with 1 Axes>"
      ]
     },
     "metadata": {
      "needs_background": "light"
     },
     "output_type": "display_data"
    }
   ],
   "source": [
    "rank_count = 100\n",
    "from sklearn import metrics\n",
    "fpr, tpr, thresholds = metrics.roc_curve(y_valid, y_predict)\n",
    "\n",
    "#plotting roc\n",
    "print(\"(blue) \", 'Best', \" roc:\", metrics.auc(fpr,tpr))\n",
    "print(\"(red) random roc: 0.5\")\n",
    "plt.plot(fpr,tpr,\n",
    "         [0,1],[0,1])\n",
    "\n",
    "#Lift\n",
    "deciles = pd.DataFrame({'y' : y_valid,\n",
    "                        'yhat' : y_predict})\n",
    "\n",
    "decile_length = deciles.shape[0]//rank_count\n",
    "overall_rate = deciles['y'].mean()\n",
    "\n",
    "decile_event_cum = 0\n",
    "decile_count_cum = 0\n",
    "for decile_n in range(rank_count):\n",
    "\n",
    "    decile_event = deciles.\\\n",
    "        sort_values('yhat', ascending= False).\\\n",
    "        reset_index(drop=True).\\\n",
    "        loc[decile_n*decile_length:(decile_n+1)*decile_length,'y'].\\\n",
    "        values.\\\n",
    "        sum()    \n",
    "\n",
    "    decile_count = deciles.\\\n",
    "        reset_index(drop=True).\\\n",
    "        loc[decile_n*decile_length:(decile_n+1)*decile_length,'y'].\\\n",
    "        count()\n",
    "\n",
    "    decile_event_cum += decile_event\n",
    "\n",
    "    decile_count_cum += decile_count\n",
    "\n",
    "    print(decile_n + 1, decile_event_cum / decile_count_cum / overall_rate)"
   ]
  },
  {
   "cell_type": "markdown",
   "metadata": {},
   "source": [
    "## Results"
   ]
  },
  {
   "cell_type": "markdown",
   "metadata": {},
   "source": [
    "Ran 22 iterations and the best model is VotingEnsemble with OOT AUC = 0.7735 (vs. previous random forest benchmark 0.7821)"
   ]
  },
  {
   "cell_type": "markdown",
   "metadata": {},
   "source": [
    "# Explain"
   ]
  },
  {
   "cell_type": "code",
   "execution_count": null,
   "metadata": {},
   "outputs": [],
   "source": []
  }
 ],
 "metadata": {
  "kernelspec": {
   "display_name": "Python 3",
   "language": "python",
   "name": "python3"
  },
  "language_info": {
   "codemirror_mode": {
    "name": "ipython",
    "version": 3
   },
   "file_extension": ".py",
   "mimetype": "text/x-python",
   "name": "python",
   "nbconvert_exporter": "python",
   "pygments_lexer": "ipython3",
   "version": "3.6.5"
  },
  "varInspector": {
   "cols": {
    "lenName": 16,
    "lenType": 16,
    "lenVar": 40
   },
   "kernels_config": {
    "python": {
     "delete_cmd_postfix": "",
     "delete_cmd_prefix": "del ",
     "library": "var_list.py",
     "varRefreshCmd": "print(var_dic_list())"
    },
    "r": {
     "delete_cmd_postfix": ") ",
     "delete_cmd_prefix": "rm(",
     "library": "var_list.r",
     "varRefreshCmd": "cat(var_dic_list()) "
    }
   },
   "types_to_exclude": [
    "module",
    "function",
    "builtin_function_or_method",
    "instance",
    "_Feature"
   ],
   "window_display": false
  }
 },
 "nbformat": 4,
 "nbformat_minor": 2
}
