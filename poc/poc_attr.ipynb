{
 "cells": [
  {
   "cell_type": "markdown",
   "metadata": {},
   "source": [
    "# Attribute Library POC"
   ]
  },
  {
   "cell_type": "markdown",
   "metadata": {},
   "source": [
    "- Need to install pandasql (conda install pandasql)\n",
    "- Need to upgrade pandas version to 0.23.4 version (pip install --user --upgrade pandas)\n",
    "- Need to upload large data to Blob Storage first and then use blob_service to pull down data"
   ]
  },
  {
   "cell_type": "code",
   "execution_count": 1,
   "metadata": {},
   "outputs": [],
   "source": [
    "!mkdir poc_attr"
   ]
  },
  {
   "cell_type": "code",
   "execution_count": 1,
   "metadata": {},
   "outputs": [],
   "source": [
    "import os\n",
    "os.chdir('poc_attr')"
   ]
  },
  {
   "cell_type": "code",
   "execution_count": 2,
   "metadata": {},
   "outputs": [
    {
     "name": "stderr",
     "output_type": "stream",
     "text": [
      "  % Total    % Received % Xferd  Average Speed   Time    Time     Time  Current\n",
      "                                 Dload  Upload   Total   Spent    Left  Speed\n",
      "\n",
      "  0     0    0     0    0     0      0      0 --:--:-- --:--:-- --:--:--     0\n",
      "100   235  100   235    0     0   1880      0 --:--:-- --:--:-- --:--:--  1880\n"
     ]
    }
   ],
   "source": [
    "!curl -u sftp_magnify3:m7atLzrf -k https://sftp.marketingassociates.com/Azure/eq_bp_map.csv -o eq_bp_map.csv"
   ]
  },
  {
   "cell_type": "code",
   "execution_count": 3,
   "metadata": {},
   "outputs": [
    {
     "name": "stderr",
     "output_type": "stream",
     "text": [
      "  % Total    % Received % Xferd  Average Speed   Time    Time     Time  Current\n",
      "                                 Dload  Upload   Total   Spent    Left  Speed\n",
      "\n",
      "  0     0    0     0    0     0      0      0 --:--:-- --:--:-- --:--:--     0\n",
      "100   878  100   878    0     0   6271      0 --:--:-- --:--:-- --:--:--  6271\n"
     ]
    }
   ],
   "source": [
    "!curl -u sftp_magnify3:m7atLzrf -k https://sftp.marketingassociates.com/Azure/eq_co_map.csv -o eq_co_map.csv"
   ]
  },
  {
   "cell_type": "code",
   "execution_count": 4,
   "metadata": {},
   "outputs": [
    {
     "name": "stderr",
     "output_type": "stream",
     "text": [
      "  % Total    % Received % Xferd  Average Speed   Time    Time     Time  Current\n",
      "                                 Dload  Upload   Total   Spent    Left  Speed\n",
      "\n",
      "  0     0    0     0    0     0      0      0 --:--:-- --:--:-- --:--:--     0\n",
      "100   175  100   175    0     0   1605      0 --:--:-- --:--:-- --:--:--  1605\n"
     ]
    }
   ],
   "source": [
    "!curl -u sftp_magnify3:m7atLzrf -k https://sftp.marketingassociates.com/Azure/eq_cp_map.csv -o eq_cp_map.csv"
   ]
  },
  {
   "cell_type": "code",
   "execution_count": 5,
   "metadata": {},
   "outputs": [
    {
     "name": "stderr",
     "output_type": "stream",
     "text": [
      "  % Total    % Received % Xferd  Average Speed   Time    Time     Time  Current\n",
      "                                 Dload  Upload   Total   Spent    Left  Speed\n",
      "\n",
      "  0     0    0     0    0     0      0      0 --:--:-- --:--:-- --:--:--     0\n",
      "100   187  100   187    0     0   1700      0 --:--:-- --:--:-- --:--:--  1700\n"
     ]
    }
   ],
   "source": [
    "!curl -u sftp_magnify3:m7atLzrf -k https://sftp.marketingassociates.com/Azure/eq_fi_map.csv -o eq_fi_map.csv"
   ]
  },
  {
   "cell_type": "code",
   "execution_count": 6,
   "metadata": {},
   "outputs": [
    {
     "name": "stderr",
     "output_type": "stream",
     "text": [
      "  % Total    % Received % Xferd  Average Speed   Time    Time     Time  Current\n",
      "                                 Dload  Upload   Total   Spent    Left  Speed\n",
      "\n",
      "  0     0    0     0    0     0      0      0 --:--:-- --:--:-- --:--:--     0\n",
      "100   235  100   235    0     0   1880      0 --:--:-- --:--:-- --:--:--  1880\n"
     ]
    }
   ],
   "source": [
    "!curl -u sftp_magnify3:m7atLzrf -k https://sftp.marketingassociates.com/Azure/eq_li_map.csv -o eq_li_map.csv"
   ]
  },
  {
   "cell_type": "code",
   "execution_count": 7,
   "metadata": {},
   "outputs": [
    {
     "name": "stderr",
     "output_type": "stream",
     "text": [
      "  % Total    % Received % Xferd  Average Speed   Time    Time     Time  Current\n",
      "                                 Dload  Upload   Total   Spent    Left  Speed\n",
      "\n",
      "  0     0    0     0    0     0      0      0 --:--:-- --:--:-- --:--:--     0\n",
      "100  1068  100  1068    0     0   7628      0 --:--:-- --:--:-- --:--:--  7628\n"
     ]
    }
   ],
   "source": [
    "!curl -u sftp_magnify3:m7atLzrf -k https://sftp.marketingassociates.com/Azure/eq_map.csv -o eq_map.csv"
   ]
  },
  {
   "cell_type": "code",
   "execution_count": 8,
   "metadata": {},
   "outputs": [
    {
     "name": "stderr",
     "output_type": "stream",
     "text": [
      "  % Total    % Received % Xferd  Average Speed   Time    Time     Time  Current\n",
      "                                 Dload  Upload   Total   Spent    Left  Speed\n",
      "\n",
      "  0     0    0     0    0     0      0      0 --:--:-- --:--:-- --:--:--     0\n",
      "100  1960  100  1960    0     0  15680      0 --:--:-- --:--:-- --:--:-- 15680\n"
     ]
    }
   ],
   "source": [
    "!curl -u sftp_magnify3:m7atLzrf -k https://sftp.marketingassociates.com/Azure/eq_pt_map.csv -o eq_pt_map.csv"
   ]
  },
  {
   "cell_type": "code",
   "execution_count": 7,
   "metadata": {},
   "outputs": [
    {
     "name": "stderr",
     "output_type": "stream",
     "text": [
      "  % Total    % Received % Xferd  Average Speed   Time    Time     Time  Current\n",
      "                                 Dload  Upload   Total   Spent    Left  Speed\n",
      "\n",
      "  0     0    0     0    0     0      0      0 --:--:-- --:--:-- --:--:--     0\n",
      "100   569  100   569    0     0   5172      0 --:--:-- --:--:-- --:--:--  5172\n"
     ]
    }
   ],
   "source": [
    "!curl -u sftp_magnify3:m7atLzrf -k https://sftp.marketingassociates.com/Azure/tu_cl01_map.csv -o tu_cl01_map.csv"
   ]
  },
  {
   "cell_type": "code",
   "execution_count": 8,
   "metadata": {},
   "outputs": [
    {
     "name": "stderr",
     "output_type": "stream",
     "text": [
      "  % Total    % Received % Xferd  Average Speed   Time    Time     Time  Current\n",
      "                                 Dload  Upload   Total   Spent    Left  Speed\n",
      "\n",
      "  0     0    0     0    0     0      0      0 --:--:-- --:--:-- --:--:--     0\n",
      "100   276  100   276    0     0   2208      0 --:--:-- --:--:-- --:--:--  2208\n"
     ]
    }
   ],
   "source": [
    "!curl -u sftp_magnify3:m7atLzrf -k https://sftp.marketingassociates.com/Azure/tu_in01_map.csv -o tu_in01_map.csv"
   ]
  },
  {
   "cell_type": "code",
   "execution_count": 9,
   "metadata": {},
   "outputs": [
    {
     "name": "stderr",
     "output_type": "stream",
     "text": [
      "  % Total    % Received % Xferd  Average Speed   Time    Time     Time  Current\n",
      "                                 Dload  Upload   Total   Spent    Left  Speed\n",
      "\n",
      "  0     0    0     0    0     0      0      0 --:--:-- --:--:-- --:--:--     0\n",
      "100   228  100   228    0     0   2072      0 --:--:-- --:--:-- --:--:--  2072\n"
     ]
    }
   ],
   "source": [
    "!curl -u sftp_magnify3:m7atLzrf -k https://sftp.marketingassociates.com/Azure/tu_pr01_map.csv -o tu_pr01_map.csv"
   ]
  },
  {
   "cell_type": "code",
   "execution_count": 10,
   "metadata": {},
   "outputs": [
    {
     "name": "stderr",
     "output_type": "stream",
     "text": [
      "  % Total    % Received % Xferd  Average Speed   Time    Time     Time  Current\n",
      "                                 Dload  Upload   Total   Spent    Left  Speed\n",
      "\n",
      "  0     0    0     0    0     0      0      0 --:--:-- --:--:-- --:--:--     0\n",
      "100   168  100   168    0     0   1541      0 --:--:-- --:--:-- --:--:--  1541\n"
     ]
    }
   ],
   "source": [
    "!curl -u sftp_magnify3:m7atLzrf -k https://sftp.marketingassociates.com/Azure/tu_sc01_map.csv -o tu_sc01_map.csv"
   ]
  },
  {
   "cell_type": "code",
   "execution_count": 11,
   "metadata": {},
   "outputs": [
    {
     "name": "stderr",
     "output_type": "stream",
     "text": [
      "  % Total    % Received % Xferd  Average Speed   Time    Time     Time  Current\n",
      "                                 Dload  Upload   Total   Spent    Left  Speed\n",
      "\n",
      "  0     0    0     0    0     0      0      0 --:--:-- --:--:-- --:--:--     0\n",
      "100  1576  100  1576    0     0  11257      0 --:--:-- --:--:-- --:--:-- 11257\n"
     ]
    }
   ],
   "source": [
    "!curl -u sftp_magnify3:m7atLzrf -k https://sftp.marketingassociates.com/Azure/tu_tr01_map.csv -o tu_tr01_map.csv"
   ]
  },
  {
   "cell_type": "code",
   "execution_count": 14,
   "metadata": {},
   "outputs": [
    {
     "name": "stderr",
     "output_type": "stream",
     "text": [
      "  % Total    % Received % Xferd  Average Speed   Time    Time     Time  Current\n",
      "                                 Dload  Upload   Total   Spent    Left  Speed\n",
      "\n",
      "  0     0    0     0    0     0      0      0 --:--:-- --:--:-- --:--:--     0\n",
      "  0 46956    0     0    0     0      0      0 --:--:-- --:--:-- --:--:--     0\n",
      "100 46956  100 46956    0     0   195k      0 --:--:-- --:--:-- --:--:--  195k\n"
     ]
    }
   ],
   "source": [
    "!curl -u sftp_magnify3:m7atLzrf -k https://sftp.marketingassociates.com/Azure/main.py -o main.py"
   ]
  },
  {
   "cell_type": "code",
   "execution_count": 15,
   "metadata": {},
   "outputs": [
    {
     "name": "stderr",
     "output_type": "stream",
     "text": [
      "  % Total    % Received % Xferd  Average Speed   Time    Time     Time  Current\n",
      "                                 Dload  Upload   Total   Spent    Left  Speed\n",
      "\n",
      "  0     0    0     0    0     0      0      0 --:--:-- --:--:-- --:--:--     0\n",
      "100 66246  100 66246    0     0   295k      0 --:--:-- --:--:-- --:--:--  295k\n"
     ]
    }
   ],
   "source": [
    "!curl -u sftp_magnify3:m7atLzrf -k https://sftp.marketingassociates.com/Azure/sv_attr.py -o sv_attr.py"
   ]
  },
  {
   "cell_type": "code",
   "execution_count": null,
   "metadata": {},
   "outputs": [],
   "source": [
    "!curl -u sftp_magnify3:m7atLzrf -k https://sftp.marketingassociates.com/Azure/ScorecardAPMBureau_selected_sample_ind -o ScorecardAPMBureau_selected_sample_ind"
   ]
  },
  {
   "cell_type": "code",
   "execution_count": null,
   "metadata": {},
   "outputs": [],
   "source": [
    "files = ['eq_bp_map.csv','eq_co_map.csv','eq_cp_map.csv','eq_fi_map.csv','eq_li_map.csv',\n",
    "        'eq_map.csv','eq_pt_map.csv','tu_cl01.csv','tu_in01.csv','tu_pr01.csv','tu_sc01.csv','tu_tr01.csv',\n",
    "        'main.py','sv_attr.py']"
   ]
  },
  {
   "cell_type": "code",
   "execution_count": 6,
   "metadata": {},
   "outputs": [],
   "source": [
    "# Modify these variables with your specific values obtained in the Prerequisites section\n",
    "azure_storage_account_name = \"helloworld1352639860\"\n",
    "azure_storage_account_key = \"/6K1VzkHYXxpLMlU8fBmmstU50BSppogeKVnohJ/2x1v8sl++p2gRGUnH4jROMV17R/p/5Gh6T1bsTMnz6C/tQ==\"\n",
    "\n",
    "if azure_storage_account_name is None or azure_storage_account_key is None:\n",
    "    raise Exception(\"Provide your specific name and key for your Azure Storage account--see the Prerequisites section earlier.\")"
   ]
  },
  {
   "cell_type": "code",
   "execution_count": 7,
   "metadata": {},
   "outputs": [
    {
     "data": {
      "text/plain": [
       "<azure.storage.blob.models.Blob at 0x1b70c4e54a8>"
      ]
     },
     "execution_count": 7,
     "metadata": {},
     "output_type": "execute_result"
    }
   ],
   "source": [
    "from azure.storage.blob import BlockBlobService\n",
    "\n",
    "# Connect to our blob via the BlobService\n",
    "blob_service = BlockBlobService(azure_storage_account_name, azure_storage_account_key)\n",
    "\n",
    "# Create a container\n",
    "# blob_service.create_container('azure-notebooks-data')\n",
    "\n",
    "# Insider a container, create other containers or blobs\n",
    "# blob_service.create_blob_from_text('azure-notebooks-data', 'sample.txt', 'Hello, Blobs! This is content for the sample.txt file.')\n",
    "\n",
    "# You can list containers and blobs\n",
    "containers = blob_service.list_containers()\n",
    "blobs = blob_service.list_blobs('sftp')\n",
    "\n",
    "# Read a blob from and get the text; the copy is stored in the Azure Notebooks project\n",
    "blob_service.get_blob_to_path('sftp', 'ScorecardAPMBureau_selected_sample_ind', 'ScorecardAPMBureau_selected_sample_ind')"
   ]
  },
  {
   "cell_type": "code",
   "execution_count": 8,
   "metadata": {},
   "outputs": [
    {
     "data": {
      "text/plain": [
       "True"
      ]
     },
     "execution_count": 8,
     "metadata": {},
     "output_type": "execute_result"
    }
   ],
   "source": [
    "# Clean up the created blob and container\n",
    "blob_service.delete_blob('sftp', 'ScorecardAPMBureau_selected_sample_ind')\n",
    "blob_service.delete_container('sftp')"
   ]
  },
  {
   "cell_type": "code",
   "execution_count": 2,
   "metadata": {},
   "outputs": [
    {
     "data": {
      "text/plain": [
       "<module 'main' from 'C:\\\\Users\\\\cwei\\\\Documents\\\\poc_attr\\\\main.py'>"
      ]
     },
     "execution_count": 2,
     "metadata": {},
     "output_type": "execute_result"
    }
   ],
   "source": [
    "import main\n",
    "import importlib\n",
    "importlib.reload(main)"
   ]
  },
  {
   "cell_type": "code",
   "execution_count": 3,
   "metadata": {},
   "outputs": [],
   "source": [
    "file = 'ScorecardAPMBureau_selected_sample_ind'\n",
    "al = main.AttributeLibrary('apm', '', file, '')"
   ]
  },
  {
   "cell_type": "code",
   "execution_count": 15,
   "metadata": {},
   "outputs": [
    {
     "name": "stdout",
     "output_type": "stream",
     "text": [
      "Record 1 to 15000 of raw file processed\n"
     ]
    }
   ],
   "source": [
    "al.process_rawfile(1, 15000)"
   ]
  },
  {
   "cell_type": "code",
   "execution_count": 4,
   "metadata": {},
   "outputs": [
    {
     "name": "stdout",
     "output_type": "stream",
     "text": [
      "Supporting variables & attribute library created\n"
     ]
    }
   ],
   "source": [
    "df, dftr, dfmisc, dfin, dfpu, dfco = al.create_sv_attr(dropcsv=False, dropdf=False)"
   ]
  },
  {
   "cell_type": "code",
   "execution_count": null,
   "metadata": {},
   "outputs": [],
   "source": []
  }
 ],
 "metadata": {
  "kernelspec": {
   "display_name": "Python 3",
   "language": "python",
   "name": "python3"
  },
  "language_info": {
   "codemirror_mode": {
    "name": "ipython",
    "version": 3
   },
   "file_extension": ".py",
   "mimetype": "text/x-python",
   "name": "python",
   "nbconvert_exporter": "python",
   "pygments_lexer": "ipython3",
   "version": "3.6.5"
  }
 },
 "nbformat": 4,
 "nbformat_minor": 2
}
